{
 "cells": [
  {
   "cell_type": "markdown",
   "id": "3ba6f791",
   "metadata": {},
   "source": [
    "# CRM Data Quality Audit – Demo 01\n",
    "\n",
    "**Project Objective:**  \n",
    "Evaluate the structure, completeness, and usability of a real-world CRM export dataset using Python and Pandas.\n",
    "\n",
    "**Business Value:**  \n",
    "A clean CRM enables better segmentation, customer retention strategies, and accurate reporting.\n",
    "\n",
    "---\n",
    "\n",
    "**Summary Metrics:**\n",
    "\n",
    "| Metric                     | Value        |\n",
    "|----------------------------|--------------|\n",
    "| Total Records              | 541,909      |\n",
    "| Total Customers            | 4,372        |\n",
    "| Missing Customer IDs       | 135,080 (25%) |\n",
    "| Duplicate Rows             | 5268         |\n",
    "| Countries Covered          | 38           |\n",
    "| Negative Quantities        | 10624        |\n",
    "| Data Quality Score         | 73.6         |\n"
   ]
  },
  {
   "cell_type": "markdown",
   "id": "2e686a27",
   "metadata": {},
   "source": [
    "___________________________________________________________________________________________________________________\n",
    "\n",
    "### **Import libraries**"
   ]
  },
  {
   "cell_type": "code",
   "execution_count": 1,
   "id": "9dbb4def",
   "metadata": {},
   "outputs": [],
   "source": [
    "import pandas as pd\n",
    "import matplotlib.pyplot as plt\n",
    "import seaborn as sns\n",
    "from sklearn.preprocessing import StandardScaler\n",
    "from sklearn.cluster import KMeans\n",
    "from sklearn.metrics import silhouette_score\n",
    "from IPython.display import display"
   ]
  },
  {
   "cell_type": "markdown",
   "id": "5bed36e4",
   "metadata": {},
   "source": [
    "___________________________________________________________________________________________________________________\n",
    "\n",
    "### **Import Dataset**"
   ]
  },
  {
   "cell_type": "code",
   "execution_count": null,
   "id": "e075b540",
   "metadata": {},
   "outputs": [],
   "source": [
    "# Load data\n",
    "df = pd.read_excel(\"/Users/jacquelinehardy/Desktop/jh-data-studio-demos/demo-01-crm-audit/data/Online Retail.xlsx\")\n",
    "\n",
    "# Quick look\n",
    "df.head()"
   ]
  },
  {
   "cell_type": "markdown",
   "id": "d88a5e11",
   "metadata": {},
   "source": [
    "## Data Dictionary\n",
    "\n",
    "| Column       | Description                                        |\n",
    "|--------------|----------------------------------------------------|\n",
    "| InvoiceNo    | Unique invoice number                              |\n",
    "| StockCode    | Product identifier                                 |\n",
    "| Description  | Name of the product                                |\n",
    "| Quantity     | Number of units purchased (negative = return)      |\n",
    "| InvoiceDate  | Timestamp of transaction                           |\n",
    "| UnitPrice    | Price per unit                                     |\n",
    "| CustomerID   | Unique customer identifier                         |\n",
    "| Country      | Country of the purchasing customer                 |\n"
   ]
  },
  {
   "cell_type": "markdown",
   "id": "e30bbf72",
   "metadata": {},
   "source": [
    "___________________________________________________________________________________________________________________\n",
    "\n",
    "### **Initial Overview**"
   ]
  },
  {
   "cell_type": "code",
   "execution_count": null,
   "id": "a5dfe14a",
   "metadata": {},
   "outputs": [],
   "source": [
    "df.shape"
   ]
  },
  {
   "cell_type": "code",
   "execution_count": null,
   "id": "51f9189d",
   "metadata": {},
   "outputs": [],
   "source": [
    "df.columns"
   ]
  },
  {
   "cell_type": "code",
   "execution_count": null,
   "id": "fb7b7505",
   "metadata": {},
   "outputs": [],
   "source": [
    "df.info()"
   ]
  },
  {
   "cell_type": "code",
   "execution_count": null,
   "id": "ed54a6aa",
   "metadata": {},
   "outputs": [],
   "source": [
    "df.describe()"
   ]
  },
  {
   "cell_type": "code",
   "execution_count": null,
   "id": "61d9ce92",
   "metadata": {},
   "outputs": [],
   "source": [
    "summary = pd.DataFrame({\n",
    "    \"Issue\": [\"Missing Customer IDs\", \"Duplicate Rows\", \"Negative Quantities\"],\n",
    "    \"Count\": [\n",
    "        df['CustomerID'].isnull().sum(),\n",
    "        df.duplicated().sum(),\n",
    "        (df['Quantity'] < 0).sum()\n",
    "    ]\n",
    "})\n",
    "summary"
   ]
  },
  {
   "cell_type": "code",
   "execution_count": null,
   "id": "3254675e",
   "metadata": {},
   "outputs": [],
   "source": [
    "sns.heatmap(df.isnull(), cbar=False)"
   ]
  },
  {
   "cell_type": "code",
   "execution_count": null,
   "id": "df8a3b8b",
   "metadata": {},
   "outputs": [],
   "source": [
    "missing_pct = df.isnull().mean().sort_values(ascending=False)\n",
    "missing_pct[missing_pct > 0].plot(kind='barh', figsize=(10, 4), title=\"Missing Data by Column\")"
   ]
  },
  {
   "cell_type": "code",
   "execution_count": null,
   "id": "23254d9e",
   "metadata": {},
   "outputs": [],
   "source": [
    "sns.boxplot(df['UnitPrice'])\n",
    "plt.title(\"Boxplot of Unit Price – Outlier Check\")"
   ]
  },
  {
   "cell_type": "code",
   "execution_count": null,
   "id": "a776f017",
   "metadata": {},
   "outputs": [],
   "source": [
    "outliers = df[df['UnitPrice'] > 1000].sort_values(by='UnitPrice', ascending=False)\n",
    "outliers[['InvoiceNo', 'Description', 'Quantity', 'UnitPrice', 'CustomerID']].head(5)"
   ]
  },
  {
   "cell_type": "code",
   "execution_count": null,
   "id": "63ac2351",
   "metadata": {},
   "outputs": [],
   "source": [
    "score = 100\n",
    "score -= df['CustomerID'].isnull().mean() * 100\n",
    "score -= df.duplicated().mean() * 50\n",
    "score -= (df['Quantity'] < 0).mean() * 50\n",
    "score = round(score, 1)\n",
    "\n",
    "print(f\"Data Quality Score: {score}/100\")\n"
   ]
  },
  {
   "cell_type": "code",
   "execution_count": null,
   "id": "6b872a37",
   "metadata": {},
   "outputs": [],
   "source": [
    "plt.barh([\"Quality Score\"], [score], color='green')\n",
    "plt.xlim(0, 100)\n",
    "plt.title(\"Overall Data Quality\")\n",
    "plt.show()"
   ]
  },
  {
   "cell_type": "code",
   "execution_count": null,
   "id": "54059290",
   "metadata": {},
   "outputs": [],
   "source": [
    "df['InvoiceDate'] = pd.to_datetime(df['InvoiceDate'])"
   ]
  },
  {
   "cell_type": "code",
   "execution_count": null,
   "id": "79c7eaa3",
   "metadata": {},
   "outputs": [],
   "source": [
    "df['Country'].value_counts().head(10)"
   ]
  },
  {
   "cell_type": "code",
   "execution_count": null,
   "id": "0f0893f8",
   "metadata": {},
   "outputs": [],
   "source": [
    "df['CustomerID'].nunique()"
   ]
  },
  {
   "cell_type": "code",
   "execution_count": null,
   "id": "69a835e6",
   "metadata": {},
   "outputs": [],
   "source": [
    "df['Month'] = df['InvoiceDate'].dt.to_period('M')\n",
    "df.groupby('Month')['InvoiceNo'].nunique().plot(kind='bar', figsize=(12, 4))"
   ]
  },
  {
   "cell_type": "markdown",
   "id": "15ff0b89",
   "metadata": {},
   "source": [
    "## Cleaning Recommendations\n",
    "\n",
    "- Remove or impute missing `CustomerID`s (depending on use case)\n",
    "- Drop 5000+ exact duplicate records\n",
    "- Remove negative quantities (returned items should be separate)\n",
    "- Normalize country and product descriptions\n"
   ]
  },
  {
   "cell_type": "code",
   "execution_count": null,
   "id": "248a9e44",
   "metadata": {},
   "outputs": [],
   "source": [
    "df_clean = df.dropna(subset=['CustomerID'])\n",
    "df_clean = df_clean[df_clean['Quantity'] >= 0]\n",
    "df_clean = df_clean.drop_duplicates()"
   ]
  },
  {
   "cell_type": "code",
   "execution_count": null,
   "id": "4df1cd5f",
   "metadata": {},
   "outputs": [],
   "source": [
    "excluded_rows = df.shape[0] - df_clean.shape[0]\n",
    "excluded_pct = round((excluded_rows / df.shape[0]) * 100, 2)\n",
    "print(f\"{excluded_rows} rows removed ({excluded_pct}% of original data).\")"
   ]
  },
  {
   "cell_type": "code",
   "execution_count": null,
   "id": "a7f054a3",
   "metadata": {},
   "outputs": [],
   "source": [
    "df_clean['Total'] = df_clean['Quantity'] * df_clean['UnitPrice']"
   ]
  },
  {
   "cell_type": "code",
   "execution_count": null,
   "id": "696a4f4a",
   "metadata": {},
   "outputs": [],
   "source": [
    "rfm = df_clean.groupby('CustomerID').agg({\n",
    "    'InvoiceDate': lambda x: (df_clean['InvoiceDate'].max() - x.max()).days,\n",
    "    'InvoiceNo': 'nunique',\n",
    "    'Total': 'sum'\n",
    "}).rename(columns={\n",
    "    'InvoiceDate': 'Recency',\n",
    "    'InvoiceNo': 'Frequency',\n",
    "    'Total': 'Monetary'\n",
    "})\n",
    "\n",
    "rfm.describe()\n"
   ]
  },
  {
   "cell_type": "code",
   "execution_count": null,
   "id": "d8666f06",
   "metadata": {},
   "outputs": [],
   "source": [
    "fig, ax = plt.subplots(1, 3, figsize=(15, 4))\n",
    "rfm['Recency'].plot(kind='hist', bins=30, ax=ax[0], title='Recency')\n",
    "rfm['Frequency'].plot(kind='hist', bins=30, ax=ax[1], title='Frequency')\n",
    "rfm['Monetary'].plot(kind='hist', bins=30, ax=ax[2], title='Monetary Value')\n",
    "plt.tight_layout()\n",
    "plt.show()"
   ]
  },
  {
   "cell_type": "code",
   "execution_count": null,
   "id": "5320a146",
   "metadata": {},
   "outputs": [],
   "source": [
    "# Keep original for reference\n",
    "rfm_original = rfm.copy()\n",
    "\n",
    "scaler = StandardScaler()\n",
    "rfm_scaled = scaler.fit_transform(rfm)\n"
   ]
  },
  {
   "cell_type": "code",
   "execution_count": null,
   "id": "422f919b",
   "metadata": {},
   "outputs": [],
   "source": [
    "import matplotlib.pyplot as plt\n",
    "from sklearn.cluster import KMeans\n",
    "\n",
    "inertia = []\n",
    "\n",
    "# Try different values for k\n",
    "K = range(1, 11)\n",
    "for k in K:\n",
    "    kmeans = KMeans(n_clusters=k, random_state=42, n_init=10)\n",
    "    kmeans.fit(rfm_scaled)\n",
    "    inertia.append(kmeans.inertia_)\n",
    "\n",
    "# Plot the elbow curve\n",
    "plt.figure(figsize=(8, 4))\n",
    "plt.plot(K, inertia, 'bo-')\n",
    "plt.xlabel('Number of clusters (k)')\n",
    "plt.ylabel('Inertia')\n",
    "plt.title('Elbow Method for Optimal k')\n",
    "plt.grid(True)\n",
    "plt.show()\n"
   ]
  },
  {
   "cell_type": "code",
   "execution_count": null,
   "id": "0a5d98d1",
   "metadata": {},
   "outputs": [],
   "source": [
    "for k in range(2, 11):\n",
    "    kmeans = KMeans(n_clusters=k, random_state=42, n_init=10)\n",
    "    labels = kmeans.fit_predict(rfm_scaled)\n",
    "    score = silhouette_score(rfm_scaled, labels)\n",
    "    print(f\"Silhouette Score for k={k}: {round(score, 3)}\")"
   ]
  },
  {
   "cell_type": "markdown",
   "id": "5a1c6369",
   "metadata": {},
   "source": [
    "**Elbow Chart Insight**\n",
    "- The “elbow” clearly appears at k = 3 or 4\n",
    "\n",
    "- After 4, the inertia continues dropping — but the gain flattens, meaning additional clusters add little value\n",
    "\n",
    "- This suggests k = 3 or 4 are both efficient choices\n",
    "\n",
    "**Silhouette Scores**\n",
    "- k = 2 has the highest score -> too simple\n",
    "- k = 4 \n",
    "    - Strong score\n",
    "    - Clear elbow support from above \n",
    "    - Grouping as loyal/at risk/new/bargain\n",
    "    "
   ]
  },
  {
   "cell_type": "code",
   "execution_count": null,
   "id": "202cc346",
   "metadata": {},
   "outputs": [],
   "source": [
    "kmeans = KMeans(n_clusters=4, random_state=42, n_init=10)\n",
    "rfm['Segment'] = kmeans.fit_predict(rfm_scaled)\n"
   ]
  },
  {
   "cell_type": "code",
   "execution_count": null,
   "id": "dac9b22d",
   "metadata": {},
   "outputs": [],
   "source": [
    "rfm['Segment'] = kmeans.labels_\n",
    "\n",
    "segment_summary = rfm.groupby('Segment').agg({\n",
    "    'Recency': 'mean',\n",
    "    'Frequency': 'mean',\n",
    "    'Monetary': 'mean',\n",
    "    'Segment': 'count'\n",
    "}).rename(columns={'Segment': 'Customer Count'})\n",
    "\n",
    "segment_summary.style.background_gradient(cmap='Blues')"
   ]
  },
  {
   "cell_type": "code",
   "execution_count": null,
   "id": "07b6400f",
   "metadata": {},
   "outputs": [],
   "source": [
    "segment_labels = {\n",
    "    0: \"At Risk\",\n",
    "    1: \"VIP\",\n",
    "    2: \"Inactive\",\n",
    "    3: \"Loyal\"\n",
    "}\n",
    "\n",
    "rfm['SegmentLabel'] = rfm['Segment'].map(segment_labels)"
   ]
  },
  {
   "cell_type": "code",
   "execution_count": null,
   "id": "353c440d",
   "metadata": {},
   "outputs": [],
   "source": [
    "rfm['SegmentLabel'].value_counts().plot(kind='bar', color='skyblue', title=\"Customer Count per Segment\")\n",
    "plt.ylabel(\"Number of Customers\")\n",
    "plt.xlabel(\"Segment\")\n",
    "plt.xticks(rotation=0)\n",
    "plt.tight_layout()\n",
    "plt.show()\n"
   ]
  },
  {
   "cell_type": "markdown",
   "id": "c8e5b6f9",
   "metadata": {},
   "source": [
    "## Segment Strategy Recommendations\n",
    "\n",
    "| Segment   | Description                                                       | Strategy                                      |\n",
    "|-----------|-------------------------------------------------------------------|-----------------------------------------------|\n",
    "| **VIP**       | Extremely active, very frequent, high spend – your best customers | Offer exclusive perks, early access, VIP loyalty rewards |\n",
    "| **Loyal**     | Active and high-spending, good frequency                      | Maintain engagement, surprise discounts, referral incentives |\n",
    "| **At Risk**   | Large group, moderate value and frequency, not recent          | Send reactivation emails, win-back offers, ask for feedback |\n",
    "| **Inactive**  | Long gone, low engagement, minimal contribution                | Suppress from active campaigns, retarget if they were once high-value |\n"
   ]
  },
  {
   "cell_type": "code",
   "execution_count": null,
   "id": "a00ce257",
   "metadata": {},
   "outputs": [],
   "source": [
    "df_clean.to_csv(\"../data/crm_cleaned.csv\", index=False)"
   ]
  }
 ],
 "metadata": {
  "kernelspec": {
   "display_name": "Python 3 (ipykernel)",
   "language": "python",
   "name": "python3"
  },
  "language_info": {
   "codemirror_mode": {
    "name": "ipython",
    "version": 3
   },
   "file_extension": ".py",
   "mimetype": "text/x-python",
   "name": "python",
   "nbconvert_exporter": "python",
   "pygments_lexer": "ipython3",
   "version": "3.9.13"
  }
 },
 "nbformat": 4,
 "nbformat_minor": 5
}
