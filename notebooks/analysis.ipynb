{
 "cells": [
  {
   "cell_type": "markdown",
   "id": "3ba6f791",
   "metadata": {},
   "source": [
    "# CRM Data Quality Audit – Demo 01\n",
    "\n",
    "**Project Objective:**  \n",
    "Evaluate the structure, completeness, and usability of a real-world CRM export dataset using Python and Pandas.\n",
    "\n",
    "**Business Value:**  \n",
    "A clean CRM enables better segmentation, customer retention strategies, and accurate reporting.\n",
    "\n",
    "---\n",
    "\n",
    "**Summary Metrics:**\n",
    "\n",
    "| Metric                     | Value        |\n",
    "|----------------------------|--------------|\n",
    "| Total Records              | 541,909      |\n",
    "| Total Customers            | 4,372        |\n",
    "| Missing Customer IDs       | 135,080 (25%) |\n",
    "| Duplicate Rows             | 5268         |\n",
    "| Countries Covered          | 38           |\n",
    "| Negative Quantities        | 10624        |\n",
    "| Data Quality Score         | 73.6         |\n"
   ]
  },
  {
   "cell_type": "markdown",
   "id": "2e686a27",
   "metadata": {},
   "source": [
    "___________________________________________________________________________________________________________________\n",
    "\n",
    "### **Import libraries**"
   ]
  },
  {
   "cell_type": "code",
   "execution_count": 1,
   "id": "9dbb4def",
   "metadata": {},
   "outputs": [],
   "source": [
    "import pandas as pd\n",
    "import matplotlib.pyplot as plt\n",
    "import seaborn as sns\n",
    "from sklearn.preprocessing import StandardScaler\n",
    "from sklearn.cluster import KMeans\n",
    "from sklearn.metrics import silhouette_score\n",
    "from IPython.display import display"
   ]
  },
  {
   "cell_type": "markdown",
   "id": "5bed36e4",
   "metadata": {},
   "source": [
    "___________________________________________________________________________________________________________________\n",
    "\n",
    "### **Import Dataset**"
   ]
  },
  {
   "cell_type": "code",
   "execution_count": 2,
   "id": "e075b540",
   "metadata": {},
   "outputs": [
    {
     "data": {
      "text/html": [
       "<div>\n",
       "<style scoped>\n",
       "    .dataframe tbody tr th:only-of-type {\n",
       "        vertical-align: middle;\n",
       "    }\n",
       "\n",
       "    .dataframe tbody tr th {\n",
       "        vertical-align: top;\n",
       "    }\n",
       "\n",
       "    .dataframe thead th {\n",
       "        text-align: right;\n",
       "    }\n",
       "</style>\n",
       "<table border=\"1\" class=\"dataframe\">\n",
       "  <thead>\n",
       "    <tr style=\"text-align: right;\">\n",
       "      <th></th>\n",
       "      <th>InvoiceNo</th>\n",
       "      <th>StockCode</th>\n",
       "      <th>Description</th>\n",
       "      <th>Quantity</th>\n",
       "      <th>InvoiceDate</th>\n",
       "      <th>UnitPrice</th>\n",
       "      <th>CustomerID</th>\n",
       "      <th>Country</th>\n",
       "    </tr>\n",
       "  </thead>\n",
       "  <tbody>\n",
       "    <tr>\n",
       "      <th>0</th>\n",
       "      <td>536365</td>\n",
       "      <td>85123A</td>\n",
       "      <td>WHITE HANGING HEART T-LIGHT HOLDER</td>\n",
       "      <td>6</td>\n",
       "      <td>2010-12-01 08:26:00</td>\n",
       "      <td>2.55</td>\n",
       "      <td>17850.0</td>\n",
       "      <td>United Kingdom</td>\n",
       "    </tr>\n",
       "    <tr>\n",
       "      <th>1</th>\n",
       "      <td>536365</td>\n",
       "      <td>71053</td>\n",
       "      <td>WHITE METAL LANTERN</td>\n",
       "      <td>6</td>\n",
       "      <td>2010-12-01 08:26:00</td>\n",
       "      <td>3.39</td>\n",
       "      <td>17850.0</td>\n",
       "      <td>United Kingdom</td>\n",
       "    </tr>\n",
       "    <tr>\n",
       "      <th>2</th>\n",
       "      <td>536365</td>\n",
       "      <td>84406B</td>\n",
       "      <td>CREAM CUPID HEARTS COAT HANGER</td>\n",
       "      <td>8</td>\n",
       "      <td>2010-12-01 08:26:00</td>\n",
       "      <td>2.75</td>\n",
       "      <td>17850.0</td>\n",
       "      <td>United Kingdom</td>\n",
       "    </tr>\n",
       "    <tr>\n",
       "      <th>3</th>\n",
       "      <td>536365</td>\n",
       "      <td>84029G</td>\n",
       "      <td>KNITTED UNION FLAG HOT WATER BOTTLE</td>\n",
       "      <td>6</td>\n",
       "      <td>2010-12-01 08:26:00</td>\n",
       "      <td>3.39</td>\n",
       "      <td>17850.0</td>\n",
       "      <td>United Kingdom</td>\n",
       "    </tr>\n",
       "    <tr>\n",
       "      <th>4</th>\n",
       "      <td>536365</td>\n",
       "      <td>84029E</td>\n",
       "      <td>RED WOOLLY HOTTIE WHITE HEART.</td>\n",
       "      <td>6</td>\n",
       "      <td>2010-12-01 08:26:00</td>\n",
       "      <td>3.39</td>\n",
       "      <td>17850.0</td>\n",
       "      <td>United Kingdom</td>\n",
       "    </tr>\n",
       "  </tbody>\n",
       "</table>\n",
       "</div>"
      ],
      "text/plain": [
       "  InvoiceNo StockCode                          Description  Quantity  \\\n",
       "0    536365    85123A   WHITE HANGING HEART T-LIGHT HOLDER         6   \n",
       "1    536365     71053                  WHITE METAL LANTERN         6   \n",
       "2    536365    84406B       CREAM CUPID HEARTS COAT HANGER         8   \n",
       "3    536365    84029G  KNITTED UNION FLAG HOT WATER BOTTLE         6   \n",
       "4    536365    84029E       RED WOOLLY HOTTIE WHITE HEART.         6   \n",
       "\n",
       "          InvoiceDate  UnitPrice  CustomerID         Country  \n",
       "0 2010-12-01 08:26:00       2.55     17850.0  United Kingdom  \n",
       "1 2010-12-01 08:26:00       3.39     17850.0  United Kingdom  \n",
       "2 2010-12-01 08:26:00       2.75     17850.0  United Kingdom  \n",
       "3 2010-12-01 08:26:00       3.39     17850.0  United Kingdom  \n",
       "4 2010-12-01 08:26:00       3.39     17850.0  United Kingdom  "
      ]
     },
     "execution_count": 2,
     "metadata": {},
     "output_type": "execute_result"
    }
   ],
   "source": [
    "# Load data\n",
    "df = pd.read_excel(\"/Users/jacquelinehardy/Desktop/jh-data-studio-demos/demo-01-crm-audit/data/Online Retail.xlsx\")\n",
    "\n",
    "# Quick look\n",
    "df.head()"
   ]
  },
  {
   "cell_type": "markdown",
   "id": "d88a5e11",
   "metadata": {},
   "source": [
    "## Data Dictionary\n",
    "\n",
    "| Column       | Description                                        |\n",
    "|--------------|----------------------------------------------------|\n",
    "| InvoiceNo    | Unique invoice number                              |\n",
    "| StockCode    | Product identifier                                 |\n",
    "| Description  | Name of the product                                |\n",
    "| Quantity     | Number of units purchased (negative = return)      |\n",
    "| InvoiceDate  | Timestamp of transaction                           |\n",
    "| UnitPrice    | Price per unit                                     |\n",
    "| CustomerID   | Unique customer identifier                         |\n",
    "| Country      | Country of the purchasing customer                 |\n"
   ]
  },
  {
   "cell_type": "markdown",
   "id": "e30bbf72",
   "metadata": {},
   "source": [
    "___________________________________________________________________________________________________________________\n",
    "\n",
    "### **Initial Overview**"
   ]
  },
  {
   "cell_type": "code",
   "execution_count": 3,
   "id": "a5dfe14a",
   "metadata": {},
   "outputs": [
    {
     "data": {
      "text/plain": [
       "(541909, 8)"
      ]
     },
     "execution_count": 3,
     "metadata": {},
     "output_type": "execute_result"
    }
   ],
   "source": [
    "df.shape"
   ]
  },
  {
   "cell_type": "code",
   "execution_count": 4,
   "id": "51f9189d",
   "metadata": {},
   "outputs": [
    {
     "data": {
      "text/plain": [
       "Index(['InvoiceNo', 'StockCode', 'Description', 'Quantity', 'InvoiceDate',\n",
       "       'UnitPrice', 'CustomerID', 'Country'],\n",
       "      dtype='object')"
      ]
     },
     "execution_count": 4,
     "metadata": {},
     "output_type": "execute_result"
    }
   ],
   "source": [
    "df.columns"
   ]
  },
  {
   "cell_type": "code",
   "execution_count": 5,
   "id": "fb7b7505",
   "metadata": {},
   "outputs": [
    {
     "name": "stdout",
     "output_type": "stream",
     "text": [
      "<class 'pandas.core.frame.DataFrame'>\n",
      "RangeIndex: 541909 entries, 0 to 541908\n",
      "Data columns (total 8 columns):\n",
      " #   Column       Non-Null Count   Dtype         \n",
      "---  ------       --------------   -----         \n",
      " 0   InvoiceNo    541909 non-null  object        \n",
      " 1   StockCode    541909 non-null  object        \n",
      " 2   Description  540455 non-null  object        \n",
      " 3   Quantity     541909 non-null  int64         \n",
      " 4   InvoiceDate  541909 non-null  datetime64[ns]\n",
      " 5   UnitPrice    541909 non-null  float64       \n",
      " 6   CustomerID   406829 non-null  float64       \n",
      " 7   Country      541909 non-null  object        \n",
      "dtypes: datetime64[ns](1), float64(2), int64(1), object(4)\n",
      "memory usage: 33.1+ MB\n"
     ]
    }
   ],
   "source": [
    "df.info()"
   ]
  },
  {
   "cell_type": "code",
   "execution_count": 6,
   "id": "ed54a6aa",
   "metadata": {},
   "outputs": [
    {
     "data": {
      "text/html": [
       "<div>\n",
       "<style scoped>\n",
       "    .dataframe tbody tr th:only-of-type {\n",
       "        vertical-align: middle;\n",
       "    }\n",
       "\n",
       "    .dataframe tbody tr th {\n",
       "        vertical-align: top;\n",
       "    }\n",
       "\n",
       "    .dataframe thead th {\n",
       "        text-align: right;\n",
       "    }\n",
       "</style>\n",
       "<table border=\"1\" class=\"dataframe\">\n",
       "  <thead>\n",
       "    <tr style=\"text-align: right;\">\n",
       "      <th></th>\n",
       "      <th>Quantity</th>\n",
       "      <th>UnitPrice</th>\n",
       "      <th>CustomerID</th>\n",
       "    </tr>\n",
       "  </thead>\n",
       "  <tbody>\n",
       "    <tr>\n",
       "      <th>count</th>\n",
       "      <td>541909.000000</td>\n",
       "      <td>541909.000000</td>\n",
       "      <td>406829.000000</td>\n",
       "    </tr>\n",
       "    <tr>\n",
       "      <th>mean</th>\n",
       "      <td>9.552250</td>\n",
       "      <td>4.611114</td>\n",
       "      <td>15287.690570</td>\n",
       "    </tr>\n",
       "    <tr>\n",
       "      <th>std</th>\n",
       "      <td>218.081158</td>\n",
       "      <td>96.759853</td>\n",
       "      <td>1713.600303</td>\n",
       "    </tr>\n",
       "    <tr>\n",
       "      <th>min</th>\n",
       "      <td>-80995.000000</td>\n",
       "      <td>-11062.060000</td>\n",
       "      <td>12346.000000</td>\n",
       "    </tr>\n",
       "    <tr>\n",
       "      <th>25%</th>\n",
       "      <td>1.000000</td>\n",
       "      <td>1.250000</td>\n",
       "      <td>13953.000000</td>\n",
       "    </tr>\n",
       "    <tr>\n",
       "      <th>50%</th>\n",
       "      <td>3.000000</td>\n",
       "      <td>2.080000</td>\n",
       "      <td>15152.000000</td>\n",
       "    </tr>\n",
       "    <tr>\n",
       "      <th>75%</th>\n",
       "      <td>10.000000</td>\n",
       "      <td>4.130000</td>\n",
       "      <td>16791.000000</td>\n",
       "    </tr>\n",
       "    <tr>\n",
       "      <th>max</th>\n",
       "      <td>80995.000000</td>\n",
       "      <td>38970.000000</td>\n",
       "      <td>18287.000000</td>\n",
       "    </tr>\n",
       "  </tbody>\n",
       "</table>\n",
       "</div>"
      ],
      "text/plain": [
       "            Quantity      UnitPrice     CustomerID\n",
       "count  541909.000000  541909.000000  406829.000000\n",
       "mean        9.552250       4.611114   15287.690570\n",
       "std       218.081158      96.759853    1713.600303\n",
       "min    -80995.000000  -11062.060000   12346.000000\n",
       "25%         1.000000       1.250000   13953.000000\n",
       "50%         3.000000       2.080000   15152.000000\n",
       "75%        10.000000       4.130000   16791.000000\n",
       "max     80995.000000   38970.000000   18287.000000"
      ]
     },
     "execution_count": 6,
     "metadata": {},
     "output_type": "execute_result"
    }
   ],
   "source": [
    "df.describe()"
   ]
  },
  {
   "cell_type": "code",
   "execution_count": 7,
   "id": "61d9ce92",
   "metadata": {},
   "outputs": [
    {
     "data": {
      "text/html": [
       "<div>\n",
       "<style scoped>\n",
       "    .dataframe tbody tr th:only-of-type {\n",
       "        vertical-align: middle;\n",
       "    }\n",
       "\n",
       "    .dataframe tbody tr th {\n",
       "        vertical-align: top;\n",
       "    }\n",
       "\n",
       "    .dataframe thead th {\n",
       "        text-align: right;\n",
       "    }\n",
       "</style>\n",
       "<table border=\"1\" class=\"dataframe\">\n",
       "  <thead>\n",
       "    <tr style=\"text-align: right;\">\n",
       "      <th></th>\n",
       "      <th>Issue</th>\n",
       "      <th>Count</th>\n",
       "    </tr>\n",
       "  </thead>\n",
       "  <tbody>\n",
       "    <tr>\n",
       "      <th>0</th>\n",
       "      <td>Missing Customer IDs</td>\n",
       "      <td>135080</td>\n",
       "    </tr>\n",
       "    <tr>\n",
       "      <th>1</th>\n",
       "      <td>Duplicate Rows</td>\n",
       "      <td>5268</td>\n",
       "    </tr>\n",
       "    <tr>\n",
       "      <th>2</th>\n",
       "      <td>Negative Quantities</td>\n",
       "      <td>10624</td>\n",
       "    </tr>\n",
       "  </tbody>\n",
       "</table>\n",
       "</div>"
      ],
      "text/plain": [
       "                  Issue   Count\n",
       "0  Missing Customer IDs  135080\n",
       "1        Duplicate Rows    5268\n",
       "2   Negative Quantities   10624"
      ]
     },
     "execution_count": 7,
     "metadata": {},
     "output_type": "execute_result"
    }
   ],
   "source": [
    "summary = pd.DataFrame({\n",
    "    \"Issue\": [\"Missing Customer IDs\", \"Duplicate Rows\", \"Negative Quantities\"],\n",
    "    \"Count\": [\n",
    "        df['CustomerID'].isnull().sum(),\n",
    "        df.duplicated().sum(),\n",
    "        (df['Quantity'] < 0).sum()\n",
    "    ]\n",
    "})\n",
    "summary"
   ]
  },
  {
   "cell_type": "code",
   "execution_count": 8,
   "id": "3254675e",
   "metadata": {},
   "outputs": [
    {
     "data": {
      "text/plain": [
       "<AxesSubplot:>"
      ]
     },
     "execution_count": 8,
     "metadata": {},
     "output_type": "execute_result"
    },
    {
     "data": {
      "image/png": "iVBORw0KGgoAAAANSUhEUgAAAkIAAAHpCAYAAABulFOwAAAAOXRFWHRTb2Z0d2FyZQBNYXRwbG90bGliIHZlcnNpb24zLjUuMiwgaHR0cHM6Ly9tYXRwbG90bGliLm9yZy8qNh9FAAAACXBIWXMAAA9hAAAPYQGoP6dpAAClv0lEQVR4nOzde1jP5//A8WdnpYN0birmLIcSI7Y5J8fM+TA0hI0hY+R8zmkY5jSnjI05n5tI4euUkjnMOULlmFSS1Of3R1fvn08HK8ta9Xpc1+e6fO73/bnf9+3atb12n14aKpVKhRBCCCFEMaRZ0B0QQgghhCgoEggJIYQQotiSQEgIIYQQxZYEQkIIIYQotiQQEkIIIUSxJYGQEEIIIYotCYSEEEIIUWxJICSEEEKIYksCISGEEEIUWxIICSGEEKLYKhaB0LJlyyhXrhwlSpTAxcWF48ePF3SXhBBCCPEfUOQDoS1btjBixAjGjx/P+fPn+eyzz2jVqhWRkZEF3TUhhBBCFDCNop50tV69etSuXZvly5crZVWrVqVDhw74+voWYM+EEEIIUdCK9IzQ69evCQ0Nxc3NTa3czc2NkydPFlCvhBBCCPFfUaQDoSdPnpCamoqVlZVauZWVFTExMQXUKyGEEEL8V2gXdAf+DRoaGmrfVSpVlrIMycnJJCcnq5Xp6emhp6f3wfonhBBCiIJRpAMhc3NztLS0ssz+PHr0KMssUQZfX1+mTp2qVqahaYimlvEH66cQQggh8t+b1w/+tk6x2Czt4uLCsmXLlLJq1arh4eGR7Wbp7GaETM2q5DiDJIQQovBIiiqe16fo235W0F0oELkJhIr0jBDAyJEj6d27N3Xq1MHV1ZVVq1YRGRnJ4MGDs62f3TKYBEFCCFE0FNeAQOSsyAdC3bp14+nTp0ybNo3o6GiqV6/OgQMHcHBwKOiuCSGE+JfJjJDIrMgvjeUHbd2PCroLQggh8oEEQsWL7BHKJxIICSGEEIVPbgKhIn2PkBBCCCHEuxT5PUJCCCFEBlkaE5nl+9KYr68vO3bs4OrVq+jr69OgQQPmzJlD5cqVlToqlYqpU6eyatUqYmNjqVevHj/99BOOjo5KnZiYGEaPHk1AQADx8fFUrlyZcePG0blz5yzvTE5Opl69ely4cIHz58/j5OQEwNOnT+nVqxd//vknT58+xdLSEg8PD2bNmoWxce7vBZKlMSGEEKLwKZClseDgYIYMGcLp06cJCAjgzZs3uLm5kZiYqNSZO3cuCxYsYOnSpYSEhGBtbU2LFi2Ij49X6vTu3Ztr166xZ88eLl68SMeOHenWrRvnz5/P8s7vv/8eW1vbrIPT1MTDw4M9e/Zw/fp11q9fz+HDh3M8Oi+EEEKI4uWDb5Z+/PgxlpaWBAcH8/nnn6NSqbC1tWXEiBGMGTMGSJ/RsbKyYs6cOQwaNAgAQ0NDli9fTu/evZW2zMzMmDt3Lv3791fKDh48yMiRI9m+fTuOjo5qM0LZWbx4MfPmzePevXu5HoPMCAkhRNEgS2PFy3/iQsW4uDgASpcuDUBERAQxMTFqGeH19PRo1KgRJ0+eVAKhTz/9lC1bttCmTRtKlSrF77//TnJyMo0bN1Z+9/DhQ7y8vNi1axcGBgZ/25eoqCh27NhBo0aN8nGEQgghCoviGhCInH3QQEilUjFy5Eg+/fRTqlevDqDk/couI/zdu3eV71u2bKFbt26YmZmhra2NgYEBO3fupHz58krbnp6eDB48mDp16nDnzp0c+9GjRw92795NUlIS7dq1Y/Xq1fk8UiGEEIWBzAiJzD5oIDR06FD+/PNPTpw4keXZ32WEnzBhArGxsRw+fBhzc3N27dpFly5dOH78ODVq1GDJkiW8ePECHx+fv+3HwoULmTx5MteuXWPcuHGMHDlSLffY27LLNfaubPVCCCEKDwkIRGYfbI/Qt99+y65duzh27BjlypVTym/fvk358uUJCwvD2dlZKffw8KBUqVL4+flx69YtKlSowKVLl9ROkjVv3pwKFSqwYsUKOnTowN69e9UClNTUVLS0tOjVqxd+fn7Z9uvEiRN89tlnREVFYWNjk+X5lClTJPu8EEIIUQQUyB4hlUrFt99+y86dOwkKClILggDKlSuHtbU1AQEBSiD0+vVrgoODmTNnDgAvX74E0k99vU1LS4u0tDQgfdPzjBkzlGdRUVG0bNmSLVu2UK9evXf2D8gy65PBx8eHkSNHqpWZmlX523ELIYT475OlMZFZvgdCQ4YM4ddff2X37t0YGRkpe4JMTEzQ19dHQ0ODESNGMGvWLCpWrEjFihWZNWsWBgYG9OzZE4AqVapQoUIFBg0axPz58zEzM2PXrl0EBASwb98+AOzt7dXea2hoCED58uUpU6YMAAcOHODhw4fUrVsXQ0NDrly5wvfff0/Dhg0pW7Zstv2X7PNCCCFE8ZHvgdDy5csB1E53Aaxbtw5PT08g/d6fpKQkvvnmG+VCxUOHDmFkZASAjo4OBw4cYOzYsbRr146EhAQqVKiAn58frVu3znVf9PX1+fnnn/H29iY5ORk7Ozs6duzI2LFj82WsQgghCheZGRGZSdLVXJB7hIQQQojCR5KuCiGEEEK8gwRCQgghhCi2JBASQgghRLH1wVNs+Pr6Mm7cOIYPH86iRYsA2LFjBytXriQ0NJSnT5/mmB/s1KlTjB8/njNnzqCjo4OTkxMHDx5EX18fgOvXrzN69Gj+97//8fr1a2rUqMGMGTNo0qSJWjvr169nwYIFXL9+nVKlStG5c2eWLl36oYcuhBDiP0aOz4vMPuiMUEhICKtWraJmzZpq5YmJiTRs2JDZs2fn+NtTp07h7u6Om5sbZ8+eJSQkhKFDh6rdLdSmTRvevHlDYGAgoaGhODk50bZtW+XIPsCCBQsYP348Y8eO5fLlyxw5coSWLVvm/2CFEEIIUeh8sFNjCQkJ1K5dm2XLljFjxgycnJyUGaEMd+7coVy5ctnOCNWvX58WLVowffr0bNt/8uQJFhYWHDt2jM8+S4904+PjMTY25vDhwzRr1ozY2Fg++ugj9u7dS7Nmzd57LHJqTAghhCh8CvTU2JAhQ2jTpg3NmzfP828fPXrEmTNnsLS0pEGDBlhZWdGoUSO1nGVmZmZUrVqVDRs2kJiYyJs3b1i5ciVWVla4uLgAEBAQQFpaGg8ePKBq1aqUKVOGrl27cu/evXwbpxBCCCEKrw+yR2jz5s2EhYUREhLyXr+/ffs2kJ73a/78+Tg5ObFhwwaaNWvGpUuXqFixIhoaGgQEBODh4YGRkRGamppYWVnh7+9PqVKllHbS0tKYNWsWP/74IyYmJkyYMIEWLVrw559/oqurm19DFkIIUQjIHiGRWb4HQvfu3WP48OEcOnSIEiVKvFcbGfnEBg0axFdffQWAs7MzR44cYe3atfj6+qJSqfjmm2+wtLTk+PHj6Ovrs3r1atq2bUtISAg2NjakpaWRkpLC4sWLcXNzA+C3337D2tqao0ePZrtXSLLPCyGEEMVHvi+NhYaG8ujRI1xcXNDW1kZbW5vg4GAWL16MtrY2qampf9tGRlb4atWqqZVXrVqVyMhIAAIDA9m3bx+bN2+mYcOGyn4kfX19JfN8du1YWFhgbm6utJOZr68vJiYmah9VWnze/yKEEEII8Z+X7zNCzZo14+LFi2plX331FVWqVGHMmDFoaWn9bRtly5bF1taWa9euqZVfv36dVq1aATlnqNfU1FRmlBo2bAjAtWvXlESsz54948mTJzg4OGT7bsk+L4QQRZcsEYnM8j0QMjIyonr16mplJUuWxMzMTCl/9uwZkZGRREVFASgBj7W1NdbW1mhoaDB69GgmT55MrVq1cHJyws/Pj6tXr7Jt2zYAXF1dMTU1pW/fvkyaNElJsBoREUGbNm0AqFSpEh4eHgwfPpxVq1ZhbGyMj48PVapUyXLXUAbJPi+EEEIUHwVys/SePXtwdnZWApbu3bvj7OzMihUrlDojRozAx8cHb29vatWqxZEjRwgICKB8+fIAmJub4+/vT0JCAk2bNqVOnTqcOHGC3bt3U6tWLaWdDRs2UK9ePdq0aUOjRo3Q0dHB398fHR2df3fQQgghhPjPkezzuSD3CAkhhBCFj2SfF0IIIYR4BwmEhBBCCFFsSSAkhBBCiGLrg2efF0IIIf4r5GZpkdkH2Sz94MEDxowZw8GDB0lKSqJSpUqsWbMGFxcXUlJSmDBhAgcOHOD27duYmJjQvHlzZs+eja2trdJG48aNCQ4OVmu3W7dubN68GUhP2Dp9+nQCAwOJiYnB1taWL7/8kvHjx6ulzjhy5AgTJ07k4sWLGBoa0qdPH2bOnIm2du5jQNksLYQQQhQ+udksne8zQrGxsTRs2JAmTZpw8OBBLC0tuXXrlpL/6+XLl4SFhTFx4kRq1apFbGwsI0aMoH379pw7d06tLS8vL6ZNm6Z819fXV/589epV0tLSWLlyJRUqVODSpUt4eXmRmJjI/PnzAfjzzz9p3bo148ePZ8OGDTx48IDBgweTmpqq1BFCCCFE8ZXvM0Jjx47lf//7H8eP5376MSQkhE8++YS7d+9ib28PpM8IOTk5sWjRoly3M2/ePJYvX64kbR03bhwBAQFqyV937dpFjx49ePToEUZGRrlqV2aEhBCiaJClseKlQGaE9uzZQ8uWLenSpQvBwcF89NFHfPPNN3h5eeX4m7i4ODQ0NJRZowybNm1i48aNWFlZ0apVKyZPnvzO4CUuLo7SpUsr35OTk7MkftXX1+fVq1eEhobSuHHj9xqjEEKIwqm4BgQiZ/keCN2+fZvly5czcuRIxo0bx9mzZxk2bBh6enr06dMnS/1Xr14xduxYevbsibGxsVLeq1cvypUrh7W1NZcuXcLHx4cLFy4QEBCQ7Xtv3brFkiVL+OGHH5Syli1bsmjRIn777Te6du1KTEwMM2bMACA6OjrbdiT7vBBCFF0yIyQyy/elMV1dXerUqcPJkyeVsmHDhhESEsKpU6fU6qakpNClSxciIyMJCgpSC4QyCw0NpU6dOoSGhlK7dm21Z1FRUTRq1IhGjRqxevVqtWcLFixg6tSpJCYmoqenx8SJE/Hx8WHLli107do1y3umTJnC1KlT1co0NA3R1Mq5b0IIIQoHCYSKlwK5WdrGxoZq1aqplVWtWpXIyEi1spSUFLp27UpERAQBAQHvDIIAateujY6ODjdu3FArj4qKokmTJri6urJq1aosvxs5ciTPnz8nMjKSJ0+e4OHhAUC5cuWyfY+Pjw9xcXFqHw3N3O0lEkIIIUThku9LYw0bNlSyyWe4fv06Dg4OyveMIOjGjRscPXoUMzOzv2338uXLpKSkYGNjo5Q9ePCAJk2a4OLiwrp169DUzD6u09DQUI7m//bbb9jZ2WWZVcog2eeFEEKI4iPfAyFvb28aNGjArFmz6Nq1K2fPnmXVqlXKbM2bN2/o3LkzYWFh7Nu3j9TUVGJiYgAoXbo0urq63Lp1i02bNtG6dWvMzc25cuUK3333Hc7OzjRs2BBInwlq3Lgx9vb2zJ8/n8ePHyt9sLa2Vv48b9483N3d0dTUZMeOHcyePZvff/8dLS2t/B66EEIIIQqZD3Kh4r59+/Dx8eHGjRuUK1eOkSNHKqfG7ty5k+Oy1NGjR2ncuDH37t3jyy+/5NKlSyQkJGBnZ0ebNm2YPHmycips/fr1fPXVV9m28/aQmjZtSlhYGMnJydSqVYvJkyfTqlWrPI1Hjs8LIUTRIHuEipfc7BH6IIFQUSOBkBBCFA0SCBUvEgjlEwmEhBBCiMKnQE6NCSGEEEIUFhIICSGEEKLYyvdA6M2bN0yYMIFy5cqhr6/Pxx9/zLRp00hLS1PqTJkyhSpVqlCyZElMTU1p3rw5Z86cUWtn0KBBlC9fHn19fSwsLPDw8ODq1avK86CgIDQ0NLL9ZOQWu3DhAj169MDOzg59fX2qVq3Kjz/+mN9DFkIIIUQhle/H5+fMmcOKFSvw8/PD0dGRc+fO8dVXX2FiYsLw4cMBqFSpEkuXLuXjjz8mKSmJhQsX4ubmxs2bN7GwsADAxcWFXr16YW9vz7Nnz5gyZQpubm5ERESgpaVFgwYNsqTJmDhxIocPH6ZOnTpA+m3UFhYWbNy4ETs7O06ePMnAgQPR0tJi6NCh+T10IYQQQhQy+b5Zum3btlhZWbFmzRqlrFOnThgYGPDLL79k+5sXL15gYmLC4cOHadasWbZ1/vzzT2rVqsXNmzcpX758lucpKSmUKVOGoUOHMnHixBz7N2TIEP766y8CAwNzPSbZLC2EEEIUPgWyWfrTTz/lyJEjXL9+HUhfnjpx4gStW7fOtv7r169ZtWoVJiYm1KpVK9s6iYmJrFu3jnLlymFnZ5dtnT179vDkyRM8PT3f2b/MGeqFEEIIUXzl+9LYmDFjiIuLo0qVKmhpaZGamsrMmTPp0aOHWr19+/bRvXt3Xr58iY2NDQEBAZibm6vVWbZsGd9//z2JiYlUqVKFgIAAdHV1s33vmjVraNmyZY6BEsCpU6f4/fff2b9//z8fqBBCiEJH7hESmeX70tjmzZsZPXo08+bNw9HRkfDwcEaMGMGCBQvo27evUi8xMZHo6GiePHnCzz//TGBgIGfOnMHS0lKpExcXx6NHj4iOjmb+/Pk8ePCA//3vf5QoUULtnffv38fBwYHff/+dTp06Zduvy5cv06RJE4YNG8aECRNy7H9ycjLJyclqZaZmVSTfmBBCCFHIFMiFinZ2dowdO5YhQ4YoZTNmzGDjxo1qp74yq1ixIv369cPHxyfb569fv8bU1JTVq1dnmV2aPn06S5Ys4cGDB+jo6GT57ZUrV2jSpAkDBgxg5syZ7+z/lClTmDp1qlqZhqYhmlrG7/ydEEKI/z6ZESpeCmSP0MuXL7NkgdfS0lI7Pp8dlUqVZSYmN3VUKhXr1q2jT58+2QZBGTNBffv2/dsgCMDHx4e4uDi1j4am0d/+TgghhBCFT77vEWrXrh0zZ87E3t4eR0dHzp8/z4IFC+jXrx+QviQ2c+ZM2rdvj42NDU+fPmXZsmXcv3+fLl26AHD79m22bNmCm5sbFhYWPHjwgDlz5qCvr59l03VgYCARERH0798/S18ygiA3NzdGjhypZLnX0tJSjulnpqenh56enlqZLIsJIYQQRVO+B0JLlixh4sSJfPPNNzx69AhbW1sGDRrEpEmTgPQg5OrVq/j5+fHkyRPMzMyoW7cux48fx9HREYASJUpw/PhxFi1aRGxsLFZWVnz++eecPHlSbQ8RpG+SbtCgAVWrVs3Sl61bt/L48WM2bdrEpk2blHIHBwfu3LmT30MXQgghRCEjSVdzQe4REkIIIQofSboqhBBCCPEOEggJIYQQotjK9z1CQgghxH+VHJ8XmeV5j9CxY8eYN28eoaGhREdHs3PnTjp06KA8V6lUTJ06lVWrVhEbG0u9evX46aeflI3Qb1OpVLRu3Rp/f3+1du7cucP06dMJDAwkJiYGW1tbvvzyS8aPH692s/Tw4cM5ceIEly5domrVqoSHh6u1f+fOHcqVK5flvQcPHsTd3T3XY5Y9QkIIIUTh80H2CCUmJlKrVi2WLl2a7fO5c+eyYMECli5dSkhICNbW1rRo0YL4+PgsdRctWpTt0fSrV6+SlpbGypUruXz5MgsXLmTFihWMGzdOrZ5KpaJfv35069btnX0+fPgw0dHRyqdp06Z5GLEQQgghiqo8L421atWKVq1aZftMpVKxaNEixo8fT8eOHQHw8/PDysqKX3/9lUGDBil1L1y4wIIFCwgJCcHGxkatHXd3d7UZm48//phr166xfPly5s+fr5QvXrwYgMePH/Pnn3/m2GczMzOsra3zOlQhhBBFjCyNiczydY9QREQEMTExuLm5KWV6eno0atSIkydPKoHQy5cv6dGjB0uXLs11gPJPssa3b9+eV69eUbFiRby9vencufN7tSOEEKJwk4BAZJavp8Yybm62srJSK7eyslKeAXh7e9OgQQM8PDxy1e6tW7dYsmQJgwcPzlN/DA0NWbBgAdu2bePAgQM0a9aMbt26sXHjxjy1I4QQQoii6YOcGsu870elUille/bsITAwkPPnz+eqraioKNzd3enSpQsDBgzIUz/Mzc3x9vZWvtepU4fY2Fjmzp3Ll19+me1vsss+/3b/hRBCCFF05GsglLHMFRMTo7bv59GjR8osUWBgILdu3aJUqVJqv+3UqROfffYZQUFBSllUVBRNmjTB1dWVVatW5Usf69evz+rVq3N87uvrm232eQ3JPi+EEIWe7BESmeVrIFSuXDmsra0JCAjA2dkZgNevXxMcHMycOXMAGDt2bJaZnRo1arBw4ULatWunlD148IAmTZrg4uLCunXrsmS0f1/nz5/Psjn7bT4+PowcOVKtzNSsSr68WwghRMGSgEBkludAKCEhgZs3byrfIyIiCA8Pp3Tp0tjb2zNixAhmzZpFxYoVqVixIrNmzcLAwICePXsC6bNG2W2Qtre3V+78iYqKonHjxtjb2zN//nweP36s1Hv7tzdv3iQhIYGYmBiSkpKUe4SqVauGrq4ufn5+6Ojo4OzsjKamJnv37mXx4sVKUJYdyT4vhBBCFB95DoTOnTtHkyZNlO8Zsyd9+/Zl/fr1fP/99yQlJfHNN98oFyoeOnQIIyOjXL/j0KFD3Lx5k5s3b1KmTBm1Z2/f/zhgwACCg4OV7xmzUBEREZQtWxaAGTNmcPfuXbS0tKhUqRJr167NcX+QEEIIIYoXyT6fC3KztBBCCFH45OZmack1JoQQotiQzdIiM5kRygWZERJCCCEKnw+Sa0wIIYQQoqjI89LYu7LPp6SkMGHCBA4cOMDt27cxMTGhefPmzJ49G1tbW6WNxo0bq21yBujWrRubN29WvsfGxjJs2DD27NkDpKfJWLJkidr9Q9md5lq+fLnaDdR//PEHkydP5vLly5QoUYLPP/+c+fPnZ5uVXgghRNEmS2MiszwHQhnZ57/66is6deqk9uzly5eEhYUxceJEatWqRWxsLCNGjKB9+/acO3dOra6XlxfTpk1Tvuvr66s979mzJ/fv38ff3x+AgQMH0rt3b/bu3atWb926dWoJWk1MTJQ/3759Gw8PD0aOHMmmTZuIi4vD29ubjh075vpmayGEEEWHBAQis3zNPm9iYkJAQIBa2ZIlS/jkk0+IjIzE3t5eKTcwMMgx4epff/2Fv78/p0+fpl69egD8/PPPuLq6cu3aNSpXrqzULVWqVI7thIWFkZqayowZM5QLGUeNGoWHhwcpKSno6OjkfuBCCCGEKHI++B6huLg4NDQ0sqTU2LRpE+bm5jg6OjJq1Cji4+OVZ6dOncLExEQJgiA9NYaJiQknT55Ua2fo0KGYm5tTt25dVqxYQVpamvKsTp06aGlpsW7dOlJTU4mLi+OXX37Bzc1NgiAhhBBCfNjj869evWLs2LH07NkTY+P/z9XVq1cvJR3HpUuX8PHx4cKFC8psUkxMDJaWllnas7S0VMtiP336dJo1a4a+vj5Hjhzhu+++48mTJ0yYMAGAsmXLcujQIbp06cKgQYNITU3F1dWVAwcOfMhhCyGE+I+SPUIisw8WCKWkpNC9e3fS0tJYtmyZ2jMvLy/lz9WrV6dixYrUqVOHsLAwateuDWS/ETpzFviMgAfAyckJgGnTpinlMTExDBgwgL59+9KjRw/i4+OZNGkSnTt3JiAgINt3SPZ5IYQouiQgEJl9kKWxlJQUunbtSkREBAEBAWqzQdmpXbs2Ojo63LhxA0jPJ/bw4cMs9R4/fqxksc9O/fr1efHihfLbn376CWNjY+bOnYuzszOff/45Gzdu5MiRI5w5cybbNnx9fTExMVH7qNLis60rhBBCiMIt3wOhjCDoxo0bHD58GDMzs7/9zeXLl0lJSVGywru6uhIXF8fZs2eVOmfOnCEuLo4GDRrk2M758+cpUaKEsh/p5cuXaGlpqdXJ+P72XqK3+fj4EBcXp/bR0Mx9njQhhBBCFB75mn3e1taWzp07ExYWxr59+0hNTVX29JQuXRpdXV1u3brFpk2baN26Nebm5ly5coXvvvsOZ2dnGjZsCEDVqlVxd3fHy8uLlStXAunH59u2baucGNu7dy8xMTG4urqir6/P0aNHGT9+PAMHDlSyx7dp04aFCxcybdo0ZWls3LhxODg4KAlaM5Ps80IIIUTxkecUG0FBQWrZ5zP07duXKVOm5HhR4dGjR2ncuDH37t3jyy+/5NKlSyQkJGBnZ0ebNm2YPHkypUuXVuo/e/Ysy4WKS5cuVWZ7/P398fHx4ebNm6SlpfHxxx8zYMAAhgwZgrb2/8d3mzdvZu7cuVy/fh0DAwNcXV2ZM2cOVapUyfWYJcWGEEIUDbJZunjJTYoNyTWWCxIICSGEEIWP5BoTQgghhHgHCYSEEEIIUWxJICSEEEKIYksCISGEEEIUW3kOhI4dO0a7du2wtbVFQ0ODXbt25Vh30KBBaGhosGjRIrXyxo0bo6Ghofbp3r27Wp2wsDBatGhBqVKlMDMzY+DAgSQkJKjViYyMpF27dpQsWRJzc3OGDRvG69evleevXr3C09OTGjVqoK2tTYcOHfI6XCGEEEIUYXkOhBITE6lVqxZLly59Z71du3Zx5swZbG1ts33u5eVFdHS08sm4LwggKiqK5s2bU6FCBc6cOYO/vz+XL1/G09NTqZOamkqbNm1ITEzkxIkTbN68me3bt/Pdd9+p1dHX12fYsGE0b948r0MVQgghRBGX5wsVW7VqRatWrd5Z58GDBwwdOpQ//viDNm3aZFvHwMAAa2vrbJ/t27cPHR0dfvrpJzQ102O1n376CWdnZ27evEmFChU4dOgQV65c4d69e0qw9cMPP+Dp6cnMmTMxNjamZMmSLF++HID//e9/PH/+PK/DFUIIUYTIPUIis3xPupqWlkbv3r0ZPXo0jo6OOdbbtGkTGzduxMrKilatWjF58mSMjNJTWSQnJ6Orq6sEQQD6+voAnDhxggoVKnDq1CmqV6+uNuPUsmVLkpOTCQ0NzfbSRyGEEMWbBAQis3zfLD1nzhy0tbUZNmxYjnV69erFb7/9RlBQEBMnTmT79u107NhRed60aVNiYmKYN28er1+/JjY2lnHjxgEQHR0NpGeWz5yA1dTUFF1dXSWtx/tITk7mxYsXah+5c1IIIYQomvI1EAoNDeXHH39k/fr178zP5eXlRfPmzalevTrdu3dn27ZtHD58mLCwMAAcHR3x8/Pjhx9+UJbQPv74Y6ysrNSSqGb3DpVK9Y9yg0n2eSGEEKL4yNdA6Pjx4zx69Ah7e3u0tbXR1tbm7t27fPfdd5QtWzbH39WuXRsdHR1u3LihlPXs2ZOYmBgePHjA06dPmTJlCo8fP1ZymVlbW2eZ+YmNjSUlJSXLTFFeSPZ5IYQQovjI1z1CvXv3znI6q2XLlvTu3Zuvvvoqx99dvnyZlJQUbGxssjzLCGrWrl1LiRIlaNGiBQCurq7MnDmT6Oho5XeHDh1CT08PFxeX9x6DZJ8XQgghio88B0IJCQncvHlT+R4REUF4eDilS5fG3t4eMzMztfo6OjpYW1tTuXJlAG7dusWmTZto3bo15ubmXLlyhe+++w5nZ2caNmyo/G7p0qU0aNAAQ0NDAgICGD16NLNnz1ayz7u5uVGtWjV69+7NvHnzePbsGaNGjcLLywtjY2OlnStXrvD69WuePXtGfHw84eHhADg5OeV16EIIIYQoYvIcCJ07d07tRNbIkSMB6Nu3L+vXr//b3+vq6nLkyBF+/PFHEhISsLOzo02bNkyePFlt/8/Zs2eZPHkyCQkJVKlShZUrV9K7d2/luZaWFvv37+ebb76hYcOG6Ovr07NnT+bPn6/2vtatW3P37l3lu7OzM4BsgBZCCCEEGiqJCP6Wtu5HBd0FIYQQQuTRm9cP/raO5BoTQgghRLElgZAQQgghiq18v1laCCGE+K+SFBsiszzvETp27Bjz5s0jNDSU6Ohodu7cmSWr+19//cWYMWMIDg4mLS0NR0dHfv/9d+zt7ZU6p06dYvz48Zw5cwYdHR2cnJw4ePAg+vr6BAUF5Zgi4+zZs9StW1et7OnTp9SqVYsHDx4QGxurnCx7282bN3F2dkZLSyvPOcdkj5AQQghR+ORmj1CeZ4Qyss9/9dVXdOrUKcvzW7du8emnn9K/f3+mTp2KiYkJf/31FyVKlFDqnDp1Cnd3d3x8fFiyZAm6urpcuHBByS3WoEEDJZVGhokTJ3L48GHq1KmT5Z39+/enZs2aPHiQ/YBTUlLo0aMHn332GSdPnszrkIUQQhQRMiMkMsv37PPjx4+ndevWzJ07Vyn7+OOP1ep4e3szbNgwxo4dq5RVrFhR+bOurq5aZvqUlBT27NnD0KFDs1xuuHz5cp4/f86kSZM4ePBgtn2aMGECVapUoVmzZhIICSGEEEKRr3uE0tLS2L9/P99//z0tW7bk/PnzlCtXDh8fH2X57NGjR5w5c4ZevXrRoEEDbt26RZUqVZg5cyaffvpptu3u2bOHJ0+e4OnpqVZ+5coVpk2bxpkzZ7h9+3a2vw0MDGTr1q2Eh4ezY8eO/ByuEEKIQkZmRkRm+Xpq7NGjRyQkJDB79mzc3d05dOgQX3zxBR07diQ4OBhACVimTJmCl5cX/v7+1K5dm2bNmqnlGnvbmjVraNmyJXZ2dkpZcnIyPXr0YN68eWp7j9729OlTPD09Wb9+vdpt00IIIYQQ8AFmhAA8PDzw9vYG0lNZnDx5khUrVtCoUSOlzqBBg5T8Y87Ozhw5coS1a9fi6+ur1ub9+/f5448/+P3339XKfXx8qFq1Kl9++WWO/fHy8qJnz558/vnnuR5DcnIyycnJamX/NKO9EEKI/wbZIyQyy9dAyNzcHG1tbapVq6ZWXrVqVU6cOAGgJEjNrk5kZGSWNtetW4eZmRnt27dXKw8MDOTixYts27YN+P+UGebm5owfP56pU6cSGBjInj17lLQbKpWKtLQ0tLW1WbVqFf369cvyPl9fX6ZOnapWpqFpiIaWzCgJIURhJwGByCxfAyFdXV3q1q3LtWvX1MqvX7+Og4MDAGXLlsXW1jbbOpk3YatUKtatW0efPn3Q0dFRe7Z9+3aSkpKU7yEhIfTr14/jx49Tvnx5IP10WmpqqlJn9+7dzJkzh5MnT/LRR9kfiffx8VHyp2UwNauSm+ELIYQQopDJ9+zzo0ePplu3bnz++ec0adIEf39/9u7dS1BQEAAaGhqMHj2ayZMnU6tWLZycnPDz8+Pq1avK7E6GwMBAIiIi6N+/f5Z+ZAQ7GZ48eQKkzyxl3CNUtWpVtTrnzp1DU1OT6tWr5zg+PT099PT01MpkWUwIIYQomvI9+/wXX3zBihUr8PX1ZdiwYVSuXJnt27ernQgbMWIEr169wtvbm2fPnlGrVi0CAgKyBDdr1qyhQYMGWQIaIYQQ4n3IHiGRmWSfzwW5WVoIIYQofCT7vBBCCCHEO0ggJIQQQohiS7LPCyGEKDZkj5DILN+zzyckJDB27Fh27drF06dPKVu2LMOGDePrr78G4M6dO5QrVy7btn///Xe6dOkCpB+zv3v3rtrzMWPGMHv2bOV7SEgIY8eOJTQ0FA0NDerWrcvcuXNxcnIC0m+vznwnEICBgQGJiYm5HrPsERJCCCEKnw+yRygj+/zSpUuzfe7t7Y2/vz8bN27kr7/+wtvbm2+//Zbdu3cDYGdnR3R0tNpn6tSplCxZMss9QtOmTVOrN2HCBOVZfHw8LVu2xN7enjNnznDixAmMjY1p2bIlKSkpAIwaNSrLu6pVq6YEW0IIIYQo3vI9+/ypU6fo27cvjRs3BmDgwIGsXLmSc+fO4eHhgZaWllpmeYCdO3fSrVs3DA0N1cqNjIyy1M1w7do1YmNjmTZtmpKDbPLkydSsWZPIyEjKly+PoaGhWpsXLlzgypUrrFixIq/DFkIIIUQRlO97hD799FP27NlDv379sLW1JSgoiOvXr/Pjjz9mWz80NJTw8HB++umnLM/mzJnD9OnTsbOzo0uXLowePRpdXV0AKleujLm5OWvWrGHcuHGkpqayZs0aHB0dlVusM1u9ejWVKlXis89krVQIIYoj2SMkMsv3QGjx4sV4eXlRpkwZtLW10dTUZPXq1WoXKr5tzZo1VK1alQYNGqiVDx8+nNq1a2NqasrZs2fx8fEhIiKC1atXA+mzRUFBQXh4eDB9+nQAKlWqxB9//IG2dtZhJScns2nTJsaOHZvPIxZCCFFYSEAgMvsggdDp06fZs2cPDg4OHDt2jG+++QYbGxuaN2+uVjcpKYlff/2ViRMnZmknI3s9QM2aNTE1NaVz587MmTMHMzMzkpKS6NevHw0bNuS3334jNTWV+fPn07p1a0JCQtDX11drb8eOHcTHx9OnT5939l+yzwshhBDFR74GQklJSYwbN46dO3fSpk0bID2ICQ8PZ/78+VkCoW3btvHy5cu/DU4A6tevD8DNmzcxMzPj119/5c6dO5w6dQpNzfQ937/++iumpqbs3r2b7t27q/1+9erVtG3bNsc9Rxkk+7wQQghRfOTrhYopKSmkpKQogUkGLS0t0tLSstRfs2YN7du3x8LC4m/bPn/+PAA2NjYAvHz5Ek1NTbWZmozvmd8VERHB0aNHs03empmPjw9xcXFqHw1No7/9nRBCCCEKn3zPPt+oUSNGjx6Nvr4+Dg4OBAcHs2HDBhYsWKDWzs2bNzl27BgHDhzI8o5Tp05x+vRpmjRpgomJCSEhIXh7e9O+fXvs7e0BaNGiBaNHj2bIkCF8++23pKWlMXv2bLS1tdWSwgKsXbsWGxubd552yyDZ54UQQojiI88XKgYFBWUJNOD/s8/HxMTg4+PDoUOHePbsGQ4ODgwcOBBvb2+1gGLcuHH88ssv3L17N8sMUlhYGN988w1Xr14lOTkZBwcHunfvzvfff4+BgYFSLyAggKlTp3Lp0iU0NTVxdnZm5syZyjIaQFpaGg4ODvTp04eZM2fmZagKuVBRCCGEKHxyc6GiZJ/PBQmEhBBCiMInN4GQ5BoTQghRbMg9QiIzmRHKBZkREkIIIQqfD5JrTAghhBCiqMhTIOTr60vdunUxMjLC0tKSDh06cO3aNbU6KpWKKVOmYGtri76+Po0bN+by5ctqdWJiYujduzfW1taULFmS2rVrs23btmzfmZycjJOTExoaGoSHhyvlT58+xd3dHVtbW/T09LCzs2Po0KG8ePFC7fcXL16kUaNG6Ovr89FHHzFt2jRkEkwIIYQQkMdAKDg4mCFDhnD69GkCAgJ48+YNbm5uJCYmKnXmzp3LggULWLp0KSEhIVhbW9OiRQvi4+OVOr179+batWvs2bOHixcv0rFjR7p166bcFfS277//Hltb26wd19TEw8ODPXv2cP36ddavX8/hw4cZPHiwUufFixe0aNECW1tbQkJCWLJkCfPnz89ylF8IIYQQxdM/2iP0+PFjLC0tCQ4O5vPPP0elUmFra8uIESMYM2YMkD6jY2VlxZw5cxg0aBAAhoaGLF++nN69eyttmZmZMXfuXLVLDw8ePMjIkSPZvn07jo6OnD9/Hicnpxz7s3jxYubNm8e9e/cAWL58OT4+Pjx8+FC5G2j27NksWbKE+/fv5/p+INkjJIQQRYNsli5ePvgeobi4OABKly4NpF+uGBMTg5ubm1JHT0+PRo0acfLkSaXs008/ZcuWLTx79oy0tDQ2b95McnIyjRs3Vuo8fPgQLy8vfvnlF7W7g3ISFRXFjh07aNSokVJ26tQpGjVqpHZBYsuWLYmKiuLOnTvvO2whhBBCFBHvfXxepVIxcuRIPv30U6pXrw6k7/0BsLKyUqtrZWXF3bt3le9btmyhW7dumJmZoa2tjYGBATt37qR8+fJK256engwePJg6deq8M2jp0aMHu3fvJikpiXbt2inZ6TP6U7Zs2Sx9yXhWrly59x2+EEKIQqi4zoyInL33jNDQoUP5888/+e2337I8y7zklDl7+4QJE4iNjeXw4cOcO3eOkSNH0qVLFy5evAjAkiVLePHiBT4+Pn/bj4ULFxIWFsauXbu4desWI0eO/Nu+ZFeeITk5mRcvXqh9ZHO1EEIIUTS914zQt99+y549ezh27BhlypRRyjMyu8fExCjJUQEePXqkzMTcunWLpUuXcunSJRwdHQGoVasWx48f56effmLFihUEBgZy+vTpLDm/6tSpQ69evfDz81N7p7W1NVWqVMHMzIzPPvuMiRMnYmNjg7W1tTJL9XZfIOusVQbJPi+EEEIUH3maEVKpVAwdOpQdO3YQGBiYZWmpXLlyWFtbExAQoJS9fv2a4OBgGjRoAKRnjQfemaF+8eLFXLhwgfDwcMLDw5XErFu2bHlnvrCMmZvk5GQAXF1dOXbsGK9fv1bqHDp0CFtb2yxLZhkk+7wQQghRfORpRmjIkCH8+uuv7N69GyMjI2W2xcTEBH19fTQ0NBgxYgSzZs2iYsWKVKxYkVmzZmFgYEDPnj0BqFKlChUqVGDQoEHMnz8fMzMzdu3aRUBAAPv27QNQMsxnMDQ0BKB8+fLKDNSBAwd4+PAhdevWxdDQkCtXrvD999/TsGFDJcjp2bMnU6dOxdPTk3HjxnHjxg1mzZrFpEmTclwak+zzQgghRPGRp0Bo+fLlAGqnuwDWrVuHp6cnkH7vT1JSEt988w2xsbHUq1ePQ4cOYWSUPquio6PDgQMHGDt2LO3atSMhIYEKFSrg5+dH69atc90XfX19fv75Z7y9vUlOTsbOzo6OHTsyduxYpY6JiQkBAQEMGTKEOnXqYGpqysiRI7PsIxJCCCFE8SS5xnJB7hESQgghCh/JNSaEEEII8Q4SCAkhhBCi2HrvCxWFEEKIwkZSbIjM8jX7fEpKCmPGjKFGjRqULFkSW1tb+vTpQ1RUlFo7t27d4osvvsDCwgJjY2O6du3Kw4cPled37tyhf//+lCtXDn19fcqXL8/kyZPVjsGvX78eDQ2NbD8ZdwVdu3aNJk2aYGVlRYkSJfj444+ZMGECKSkp7/WXJYQQQoiiJV+zz798+ZKwsDAmTpxIWFgYO3bs4Pr167Rv315pIzExETc3NzQ0NAgMDOR///sfr1+/pl27dso9QlevXiUtLY2VK1dy+fJlFi5cyIoVKxg3bpzSTrdu3YiOjlb7tGzZkkaNGmFpaQmkn1Dr06cPhw4d4tq1ayxatIiff/6ZyZMn/+O/OCGEEEIUfvmafT47ISEhfPLJJ9y9exd7e3sOHTpEq1atiI2Nxdg4/bbm2NhYSpcuTUBAAM2bN8+2nXnz5rF8+XJu376dY18++ugj1qxZo5bVPrORI0cSEhLC8eO5nx6VU2NCCCFE4fOvZ5/PqY6GhgalSpUC0m991tDQULu0sESJEmhqanLixIl3tvOu92zYsAEDAwM6d+6cY52bN2/i7++vlqFeCCGEEMVXvmafz+zVq1eMHTuWnj17KrM/9evXp2TJkowZM4ZZs2ahUqkYM2YMaWlpREdHZ9vOrVu3WLJkCT/88EOO/Vm7di09e/ZEX18/y7MGDRoQFhZGcnIyAwcOZNq0ae8xYiGEEIWdbJYWmb13IJSRfT6nWZyUlBS6d+9OWloay5YtU8otLCzYunUrX3/9NYsXL0ZTU5MePXpQu3ZttLS0srQTFRWFu7s7Xbp0YcCAAdm+69SpU1y5coUNGzZk+3zLli3Ex8dz4cIFRo8ezfz58/n++++zrZucnKzkKsugUqkkzYYQQhQBEhCIzPI1+3yGlJQUunbtSkREBIGBgcpsUAY3Nzdu3brFkydP0NbWplSpUlhbW2dJ4hoVFUWTJk1wdXVl1apVOfZn9erVODk54eLiku1zOzs7AKpVq0ZqaioDBw7ku+++yzbwkuzzQghRdMmMkMgsT4GQSqXi22+/ZefOnQQFBWUJXOD/g6AbN25w9OhRzMzMcmzP3NwcgMDAQB49eqR2uuzBgwc0adIEFxcX1q1blyVbfYaEhAR+//13fH19cz2GlJQUctoj7uPjkyUXmalZlVy1LYQQ4r9NAgKRWb5mn3/z5g2dO3cmLCyMffv2kZqaqtQpXbo0urq6QHqS1qpVq2JhYcGpU6cYPnw43t7eVK5cGUifCWrcuDH29vbMnz+fx48fK32wtrZW69OWLVt48+YNvXr1ytLfTZs2oaOjQ40aNdDT0yM0NBQfHx+6deuGtnb2Q5fs80IIUXTJjJDILE/H53MKCDKyz9+5cyfbWSKAo0ePKlnrx44dy/r163n27Blly5Zl8ODBeHt7K+2vX7+er776Ktt2Mne3QYMGlCtXjk2bNmWpu2XLFubOncv169dRqVQ4ODjw5Zdf4u3tTYkSJXI7bDk+L4QQRYQEQsVLbo7PS/b5XJBASAghigYJhIoXCYTyiQRCQgghROGTm0BIkq4KIYQoNmRGSGQmM0K5IDNCQgghROHzwVNsCCGEEEIUZnkKhHx9falbty5GRkZYWlrSoUMHrl27plbH09MTDQ0NtU/9+vXV6iQnJ/Ptt99ibm5OyZIlad++Pffv31erM3PmTBo0aICBgYGSpyyz4cOH4+Ligp6eHk5OTtnWUalUzJ8/n0qVKqGnp4ednR2zZs3Ky7CFEEIIUUTlKRAKDg5myJAhnD59moCAAN68eYObmxuJiYlq9dzd3YmOjlY+Bw4cUHs+YsQIdu7cyebNmzlx4gQJCQm0bduW1NRUpc7r16/p0qULX3/9dY79UalU9OvXj27duuVYZ/jw4axevZr58+dz9epV9u7dyyeffJKXYQshhBCiiPpHe4QeP36MpaUlwcHBfP7550D6jNDz58/ZtWtXtr+Ji4vDwsKCX375RQlgoqKisLOz48CBA7Rs2VKt/vr16xkxYgTPnz/PsR9Tpkxh165dhIeHq5X/9ddf1KxZk0uXLimXNb4P2SMkhBBCFD4ffI9QXFwckH5r9NuCgoKwtLSkUqVKeHl58ejRI+VZaGgoKSkpuLm5KWW2trZUr16dkydP/pPuZLF3714+/vhj9u3bR7ly5ShbtiwDBgzg2bNn+foeIYQQQhRO7318XqVSMXLkSD799FOqV6+ulLdq1YouXbrg4OBAREQEEydOpGnTpoSGhqKnp0dMTAy6urqYmpqqtWdlZaWk48gvt2/f5u7du2zdupUNGzaQmpqKt7c3nTt3JjAwMNvfSPZ5IYQQovh470Bo6NCh/Pnnn5w4cUKt/O39OtWrV6dOnTo4ODiwf/9+OnbsmGN7HyLYSEtLIzk5mQ0bNlCpUiUA1qxZg4uLC9euXct2uUyyzwshhBDFx3sFQt9++y179uzh2LFjlClT5p11bWxscHBw4MaNG0B60tTXr18TGxurNiv06NEjGjRo8D7deee7tbW1lSAIoGrVqgBERkZmGwhJ9nkhhCi65EJFkVme9gipVCqGDh3Kjh07CAwMzDHB6tuePn3KvXv3sLGxAcDFxQUdHR0CAgKUOtHR0Vy6dCnfA6GGDRvy5s0bbt26pZRdv34dAAcHh2x/o6enh7GxsdpHlsWEEEKIoilPM0JDhgzh119/Zffu3RgZGSl7ekxMTNDX1ychIYEpU6bQqVMnbGxsuHPnDuPGjcPc3JwvvvhCqdu/f3++++47zMzMKF26NKNGjaJGjRo0b95ceVdkZCTPnj0jMjKS1NRU5URYhQoVMDQ0BODmzZskJCQQExNDUlKSUqdatWro6urSvHlzateuTb9+/Vi0aBFpaWkMGTKEFi1aqM0SCSGEKB5kZkRklqfj8znNjKxbtw5PT0+SkpLo0KED58+f5/nz59jY2NCkSROmT5+OnZ2dUv/Vq1eMHj2aX3/9laSkJJo1a8ayZcvU6nh6euLn55flXUePHqVx48YANG7cmODg4Cx1IiIiKFu2LJB+NP/bb7/l0KFDlCxZklatWvHDDz9kOen2LnJ8XgghhCh8JPt8PpFASAghhCh8JNeYEEIIIcQ7vPfxeSGEEKKwkVNjIjNZGssFWRoTQgghCp98XxrLTfb5zJnnMz7z5s1T6uQm+3xYWBgtWrSgVKlSmJmZMXDgQBISEv72XStWrFCr8/vvv+Pk5ISBgQEODg5q/RBCCCFE8Zbv2effzjofHR3N2rVr0dDQoFOnTkqdv8s+HxUVRfPmzalQoQJnzpzB39+fy5cv4+npmaVP69atU3tf3759lWcHDx6kV69eDB48mEuXLrFs2TIWLFjA0qVL8/r3JIQQQogiKN+zz2fWoUMH4uPjOXLkCJC77POrVq1i4sSJREdHo6mZHquFh4fj7OzMjRs3qFChQnrnNTTYuXMnHTp0yPbdPXv2JCUlha1btyplixYt4ocffiAyMjLXFyXK0pgQQghR+BRY9vkMDx8+ZP/+/fTv318py032+eTkZHR1dZUgCEBfXx8gS26zoUOHYm5uTt26dVmxYgVpaWnKs+TkZEqUKKFWX19fn/v373P37t33GbIQQgghipD3DoRyyj7/Nj8/P4yMjNSSreYm+3zTpk2JiYlh3rx5Sl6ycePGAelLbxmmT5/O1q1bOXz4MN27d+e7775j1qxZyvOWLVuyY8cOjhw5QlpaGtevX2fRokVZ2hFCCCFE8ZTv2efftnbtWnr16pVlViY7b2efd3R0xM/Pj5EjR+Lj44OWlhbDhg3DysoKLS0t5TcTJkxQ/uzk5ATAtGnTlHIvLy9u3bpF27ZtSUlJwdjYmOHDhzNlyhS1dt6WnJxMcnJyjn0TQgghRNHxwbLPHz9+nGvXrrFlyxa18txmn+/Zsyc9e/bk4cOHlCxZEg0NDRYsWPDORK/169fnxYsXPHz4ECsrKzQ0NJgzZw6zZs0iJiYGCwsLZa9SRgqOzHx9fZk6dapamYamIRpaxu/8OxFCCPHfJ/cIiczytFlapVLx7bffsnPnToKCgqhYsWKOdT09Pbl06RLnzp1TK8/YLL1x40a6du0KpC9TlSlTRtksnZ21a9fy7bff8uDBA0qVKpVtnaVLlzJ69GieP3+Onp5etnX69OnDzZs3lf1ImWU3I2RqVkVmhIQQQohCJjebpfM1+3yGFy9esHXrVn744YcsbeQ2+/zSpUtp0KABhoaGBAQEMHr0aGbPnq0EQXv37iUmJgZXV1f09fU5evQo48ePZ+DAgUoQ9OTJE7Zt20bjxo159eoV69atY+vWrdkmas2gp6eXJYiSIEgIIYoGmRESmeVr9vkMq1atYsSIEURHR2NiYpKlfm6yz/fp04f9+/eTkJBAlSpVGDVqFL1791ae+/v74+Pjw82bN0lLS+Pjjz9mwIABDBkyBG3t9PjuyZMntGvXjosXL6JSqXB1dWXmzJnUq1cvt0MG5Pi8EEIIURhJ9vl8IoGQEEIUDTIjVLxIIJRPJBASQgghCp983yMkhBBCFGYyIyQy+0c3SwshhBBCFGb5nn3+4cOHeHp6Ymtri4GBAe7u7ty4cUOtzqpVq2jcuDHGxsZoaGjw/PnzLO+6fv06Hh4emJubY2xsTMOGDTl69KhancjISNq1a0fJkiUxNzdn2LBhvH79WnkeFBSEh4cHNjY2lCxZEicnJzZt2pSXIQshhBCiCMvT0lhG9vm6devy5s0bxo8fj5ubG1euXKFkyZKoVCo6dOiAjo4Ou3fvxtjYmAULFtC8eXOlDsDLly9xd3fH3d0dHx+fbN/Vpk0bKlWqRGBgIPr6+ixatIi2bdty69YtrK2tSU1NpU2bNlhYWHDixAmePn1K3759UalULFmyBICTJ09Ss2ZNxowZg5WVFfv376dPnz4YGxvTrl27f/hXJ4QQorCRJSKRWb5mn79+/TqVK1fm0qVLODo6ApCamoqlpSVz5sxhwIABar8PCgqiSZMmxMbGql2S+OTJEywsLDh27BiffZb+D218fDzGxsYcPnyYZs2acfDgQdq2bcu9e/ewtbUFYPPmzXh6evLo0SOMjbO/CbpNmzZYWVmxdu3aXI9TNksLIYQQhc+/nn0+40bmt3OLaWlpoaur+86cZJmZmZlRtWpVNmzYQGJiIm/evGHlypVYWVnh4uICwKlTp6hevboSBEF6ktXk5GRCQ0Pf2eeM/gohhBCieMvX7PNVqlTBwcEBHx8fYmNjef36NbNnzyYmJiZP2d41NDQICAjg/PnzGBkZUaJECRYuXIi/v78ycxQTE4OVlZXa70xNTdHV1VVuvM5s27ZthISE8NVXX73foIUQQghRpLx3IJSRff63335TynR0dNi+fTvXr1+ndOnSGBgYEBQURKtWrXLM9p4dlUrFN998g6WlJcePH+fs2bN4eHjQtm1btYAqu5uuc8oUHxQUhKenJz///LOybJed5ORkXrx4ofaRq5aEEEKIoum9AqGM7PNHjx7Nkn3excWF8PBwnj9/TnR0NP7+/jx9+vSdWeMzCwwMZN++fWzevJmGDRtSu3Ztli1bhr6+Pn5+fkB6FvvMMz+xsbGkpKRkmSkKDg6mXbt2LFiwgD59+rzz3b6+vpiYmKh9VGnxue67EEIIIQqPPAVCKpWKoUOHsmPHDgIDA98Z3JiYmGBhYcGNGzc4d+4cHh4euX7Py5cv0zunqd49TU1N0tLSAHB1deXSpUtqM0SHDh1CT09P2UcE6TNBbdq0Yfbs2QwcOPBv3+3j40NcXJzaR0PTKNd9F0IIIUThke/Z57du3YqFhQX29vZcvHiR4cOH06FDB9zc3JR2YmJiiImJ4ebNmwBcvHgRIyMj7O3tKV26NK6urpiamtK3b18mTZqEvr4+P//8MxEREbRp0wYANzc3qlWrRu/evZk3bx7Pnj1j1KhReHl5KSfGMoKg4cOH06lTJ6W/urq6OW6YluzzQgghRPGR79nnFy9ezLx583j48CE2Njb06dOHiRMnoqurq9SfMmUKU6dOfWc7586dY/z48Zw7d46UlBQcHR2ZNGkSrVq1UupHRkbyzTffKHcN9ezZk/nz5yuBjKenp7KU9rZGjRoRFBSU22HL8XkhhCgiJMVG8SJJV/OJBEJCCCFE4SNJV4UQQoi3yIyQyExmhHJBZoSEEEKIwueD3ywthBBCCFGY5SkQWr58OTVr1sTY2BhjY2NcXV05ePCg8nzHjh20bNkSc3NzNDQ0CA8PV/v9s2fP+Pbbb6lcuTIGBgbY29szbNgwJVXH2/bv30+9evXQ19fH3Nycjh07Ztunp0+fUqZMmSxZ7O/cuYOGhkaWj7+/f16GLIQQQogiLE97hMqUKcPs2bOpUKECAH5+fnh4eHD+/HkcHR1JTEykYcOGdOnSBS8vryy/j4qKIioqivnz51OtWjXu3r3L4MGDiYqKYtu2bUq97du34+XlxaxZs2jatCkqlYqLFy9m26f+/ftTs2ZNHjzIfvrr8OHDajdJS54xIYQQQmT4x3uESpcuzbx58+jfv79SdufOHcqVK8f58+dxcnJ65++3bt3Kl19+SWJiItra2rx584ayZcsydepUtTazs3z5crZs2cKkSZNo1qyZWhb7vPTh78geISGEEKLw+aB7hFJTU9m8eTOJiYm4urq+bzPExcVhbGyMtnb65FRYWBgPHjxAU1MTZ2dnbGxsaNWqFZcvX1b73ZUrV5g2bRobNmzIcgP129q3b4+lpSUNGzZUm3USQgghhMhzIHTx4kUMDQ3R09Nj8ODB7Ny5k2rVqr3Xy58+fcr06dMZNGiQUnb79m0g/dLFCRMmsG/fPkxNTWnUqBHPnj0D0hOj9ujRg3nz5mFvb59t24aGhixYsIBt27Zx4MABmjVrRrdu3di4ceN79VUIIYQQRU+e7xGqXLmyklR1+/bt9O3bl+Dg4DwHQy9evKBNmzZUq1aNyZMnK+UZucTGjx9Pp06dgPQbp8uUKcPWrVsZNGgQPj4+VK1alS+//DLH9s3NzfH29la+16lTh9jYWObOnfvO3yUnJ5OcnKxWllNGeyGEEEIUbnmeEdLV1aVChQrUqVMHX19fatWqxY8//pinNuLj43F3d8fQ0JCdO3eio6OjPLOxsQFQC6z09PT4+OOPiYyMBNKz02/duhVtbW20tbVp1qwZkB78vB1UZVa/fn1u3Ljxzr5J9nkhhBCi+PjHN0urVKosMyjv8uLFC1q2bImenh579uyhRIkSas9dXFzQ09Pj2rVrfPrppwCkpKRw584dHBwcgPRTZUlJScpvQkJC6NevH8ePH6d8+fI5vvv8+fNKoJUTHx8fRo4cqVZmalYl1+MTQgghROGRp0Bo3LhxtGrVCjs7O+Lj49m8eTNBQUHK3TzPnj0jMjKSqKgoAK5duwaAtbU11tbWxMfH4+bmxsuXL9m4cSMvXrzgxYsXAFhYWKClpYWxsTGDBw9m8uTJ2NnZ4eDgwLx58wDo0qULQJZg58mTJwBUrVpVOTXm5+eHjo4Ozs7OaGpqsnfvXhYvXsycOXPeOUbJPi+EEEIUH3kKhB4+fEjv3r2Jjo7GxMSEmjVr4u/vT4sWLQDYs2cPX331lVK/e/fuAEyePJkpU6YQGhrKmTNnAJS7iDJERERQtmxZAObNm4e2tja9e/cmKSmJevXqERgYiKmpaZ4GN2PGDO7evYuWlhaVKlVi7dq179wfJIQQomiTXGMiM8k1lgtyj5AQQhQNEggVL7m5R0gCoVyQQEgIIYQofCTpqhBCCCHEO0ggJIQQQohiK1+zz0+ZMoUqVapQsmRJTE1Nad68ubI5OsOgQYMoX748+vr6WFhY4OHhwdWrV7N9X3JyMk5OTtlmsg8JCaFZs2aUKlUKU1NT3NzcstT5448/qF+/PkZGRlhYWNCpUyciIiLyMmQhhBBCFGF5CoQyss+fO3eOc+fO0bRpUzw8PJQ8YJUqVWLp0qVcvHiREydOULZsWdzc3Hj8+LHShouLC+vWreOvv/7ijz/+QKVS4ebmRmpqapb3ff/999ja2mYpj4+Pp2XLltjb23PmzBlOnDiBsbExLVu2JCUlBUhP1eHh4UHTpk0JDw/njz/+4MmTJ3Ts2DFPf0FCCCGEKLo+SPb5DC9evMDExITDhw8rtz9n9ueff1KrVi1u3rypdj/QwYMHGTlyJNu3b8fR0VEti/y5c+eoW7cukZGR2NnZAek50GrWrKm0s23bNnr06EFycrKSlHXv3r14eHiQnJysdpv135HN0kIIIUThk5vN0u99s3Rqaipbt27NMfv869evWbVqFSYmJtSqVSvbNhITE1m3bh3lypVTAhpIv6/Iy8uLXbt2YWBgkOV3lStXxtzcnDVr1jBu3DhSU1NZs2YNjo6Oyu3TderUQUtLi3Xr1uHp6UlCQgK//PILbm5ueQqChBBCFB1yfF5kludA6OLFi7i6uvLq1SslV9jbecH27dtH9+7defnyJTY2NgQEBGBubq7WxrJly/j+++9JTEykSpUqBAQEoKurC6Sn7PD09GTw4MHUqVOHO3fuZOmDkZERQUFBeHh4MH36dCB9We6PP/5AWzt9SGXLluXQoUN06dKFQYMGkZqaiqurKwcOHMjrkIUQQhQREhCIzPJ8aiwj+/zp06f5+uuv6du3L1euXFGeN2nShPDwcE6ePIm7uztdu3bl0aNHam306tWL8+fPExwcTMWKFenatSuvXr0CYMmSJbx48QIfH58c+5CUlES/fv1o2LAhp0+f5n//+x+Ojo60bt1ayUEWExPDgAED6Nu3LyEhIQQHB6Orq0vnzp1512pgcnKykvoj4yNXLQkhhBBF0z/eI9S8eXPKly/PypUrs31esWJF+vXrl2Ng8/r1a0xNTVm9ejU9evSgQ4cO7N27Vy2/V2pqKlpaWvTq1Qs/Pz9lSSw6OlrZ/5PRzpo1a+jevTsTJ07k4MGDnDt3Tmnn/v372NnZcerUKerXr59tf6ZMmcLUqVPVyjQ0DdHUMs7T34sQQgghCta/cqHi32Wfz012+rfrLF68mAsXLhAeHk54eLiylLVlyxZmzpwJwMuXL9HU1FQLljK+p6WlKXW0tLTU3pPxPaNOdnx8fIiLi1P7aGgavbP/QgghhCic8i37fGJiIjNnzqR9+/bY2Njw9OlTli1bxv3795Ws8bdv32bLli24ublhYWHBgwcPmDNnDvr6+rRu3RoAe3t7tXcaGhoC6Rnny5QpA0CLFi0YPXo0Q4YM4dtvvyUtLY3Zs2ejra1NkyZNAGjTpg0LFy5k2rRp9OjRg/j4eMaNG4eDgwPOzs45jlGyzwshhBDFR75ln3/16hVXr17Fz8+PJ0+eYGZmRt26dTl+/DiOjo4AlChRguPHj7No0SJiY2OxsrLi888/5+TJk1haWua6H1WqVGHv3r1MnToVV1dXNDU1cXZ2xt/fHxsbGwCaNm3Kr7/+yty5c5k7dy4GBga4urri7++Pvr5+XoYthBCiiJBTYyIzSbqaC3KPkBBCFA0SCBUvkn0+n0ggJIQQQhQ+kn1eCCGEEOId3vtmaSGEEKKwkaUxkZksjeWCLI0JIYQQhU++L40tX76cmjVrYmxsjLGxMa6urhw8eFB57unpiYaGhtonp4sLVSoVrVq1QkNDg127dqk9a9++Pfb29pQoUQIbGxt69+5NVFSU8vzp06e4u7tja2uLnp4ednZ2DB06lBcvXih1Xr16haenJzVq1EBbW5sOHTrkZahCCCGEKAbyFAiVKVOG2bNnc+7cOc6dO0fTpk3x8PDg8uXLSh13d3eio6OVT065vRYtWpTj/TxNmjTh999/59q1a2zfvp1bt27RuXPn/++0piYeHh7s2bOH69evs379eg4fPszgwYOVOqmpqejr6zNs2DCaN2+el2EKIYQQopj4x0tjpUuXZt68efTv3x9PT0+eP3+eZYYnswsXLtC2bVtCQkKwsbFh586d75yx2bNnDx06dCA5OTnHzPGLFy9m3rx53Lt3L8uz3PYrJ7I0JoQQQhQ+uVkae+/N0qmpqWzdupXExERcXV2V8qCgICwtLSlVqhSNGjVi5syZapclvnz5kh49erB06VKsra3/9j3Pnj1j06ZNNGjQIMcgKCoqih07dtCoUaP3HY4QQohiQDZLi8zyHAhdvHgRV1dXXr16haGhITt37qRatWoAtGrVii5duuDg4EBERAQTJ06kadOmhIaGKmkrvL29adCgAR4eHu98z5gxY1i6dCkvX76kfv367Nu3L0udHj16sHv3bpKSkmjXrh2rV6/O63CySE5OzpIbTaVSSZoNIYQoAiQgEJnl+R6hypUrEx4ezunTp/n666/p27cvV65cAaBbt260adOG6tWr065dOw4ePMj169fZv38/kL7EFRgYyKJFi/72PaNHj+b8+fMcOnQILS0t+vTpQ+ZVvIULFxIWFsauXbu4desWI0eOzOtwsvD19cXExETto0qL/8ftCiGEEOK/5x/vEWrevDnly5dn5cqV2T6vWLEiAwYMYMyYMYwYMYLFixejqfn/8Vdqaiqampp89tlnBAUFZdvG/fv3sbOz4+TJk2rLcG87ceIEn332GVFRUUq+sQx52SOU3YyQqVkVmRESQgghCpkPukcog0qlyhI4ZHj69Cn37t1TApOxY8cyYMAAtTo1atRg4cKFtGvX7p3vAHJ8T27r5IZknxdCCCGKjzwFQuPGjaNVq1bY2dkRHx/P5s2bCQoKwt/fn4SEBKZMmUKnTp2wsbHhzp07jBs3DnNzc7744gsArK2ts90gbW9vT7ly5QA4e/YsZ8+e5dNPP8XU1JTbt28zadIkypcvr8wGHThwgIcPH1K3bl0MDQ25cuUK33//PQ0bNqRs2bJKu1euXOH169c8e/aM+Ph4wsPDAXBycnqPvyohhBBCFDV5CoQePnxI7969iY6OxsTEhJo1a+Lv70+LFi1ISkri4sWLbNiwgefPn2NjY0OTJk3YsmULRkZGuX6Hvr4+O3bsYPLkySQmJmJjY4O7uzubN29WZmr09fX5+eef8fb2Jjk5GTs7Ozp27MjYsWPV2mrdujV3795Vvjs7OwNk2WskhBBCiOJJUmzkgtwjJIQQQhQ+kn1eCCGEEOIdJBASQgghRLH1j0+NCSGEEIWF3CwtMsvTHqHly5ezfPly7ty5A4CjoyOTJk2iVatW6Y3lcMx87ty5jB49GoDGjRsTHBys9rxbt25s3rxZ+T5z5kz2799PeHg4urq6PH/+XK3++vXr+eqrr7J918OHD9VSegDcvHkTZ2dntLS0srSVG7JHSAghhCh8crNHKE+B0N69e9HS0qJChQoA+Pn5MW/ePM6fP4+joyMxMTFq9Q8ePEj//v25efMmH3/8MZAeCFWqVIlp06Yp9fT19TExMVG+T548mVKlSnH//n3WrFmTJXhJSkoiLi5OrczT05NXr15luZQxJSWFBg0aYGFhwcmTJyUQEkIIIYqJfL9QMfOlhzNnzmT58uWcPn0aR0fHLHcE7d69myZNmihBUAYDA4N3JlydOnUqkD7zkx19fX309fWV748fPyYwMJA1a9ZkqTthwgSqVKlCs2bNOHny5DvHJ4QQomiTpTGRWb5nn8/w8OFD9u/fj5+fX5ZnmzZtYuPGjVhZWdGqVSsmT56cp7uGMtuwYQMGBgZ07txZrTwwMJCtW7cSHh7Ojh073rt9IYQQRYMEBCKzfM0+/zY/Pz+MjIzo2LGjWnmvXr0oV64c1tbWXLp0CR8fHy5cuEBAQMB7D2Lt2rX07NlTbZbo6dOneHp6snHjRoyNjd+7bSGEEEIUXXkOhDKyzz9//pzt27fTt29fgoODswRDa9eupVevXpQoUUKt3MvLS/lz9erVqVixInXq1CEsLIzatWvneQCnTp3iypUrbNiwIct7evbsyeeff56n9rJLuqpSqSTfmBBCCFEE5fkeIV1dXSpUqECdOnXw9fWlVq1a/Pjjj2p1jh8/zrVr17IkWM1O7dq10dHR4caNG3ntCgCrV6/GyckJFxcXtfLAwEDmz5+PtrY22tra9O/fn7i4OLS1tVm7dm2O7fn6+mJiYqL2UaXFv1ffhBBCCPHf9kGyz69ZswYXFxdq1ar1t7+/fPkyKSkpSob6vEhISOD333/H19c3y7NTp06RmpqqfN+9ezdz5szh5MmTfPRRzqfAfHx8GDlypFqZqVmVPPdNCCGEEP99+ZZ9PsOLFy/YunUrP/zwQ5bf37p1i02bNtG6dWvMzc25cuUK3333Hc7OzjRs2FCpFxkZybNnz4iMjCQ1NVXJGl+hQgUMDQ2Velu2bOHNmzf06tUry7uqVq2q9v3cuXNoampSvXr1d45RT09PSe6aQZbFhBBCiKIp37LPZ9i8eTMqlYoePXpk+b2uri5Hjhzhxx9/JCEhATs7O9q0acPkyZPR0tJS6k2aNEnttFlG1vijR4/SuHFjpXzNmjV07NgRU1PTvAxDCCGEEAKQ7PO5IhcqCiFE0SD3CBUv+X6zdHElgZAQQghR+OT7zdJCCCFEYSYzQiIzmRHKBZkREkIIIQqf3MwI5ekeoeXLl1OzZk2MjY0xNjbG1dWVgwcPKs8fPnyIp6cntra2GBgY4O7unu39QKdOnaJp06aULFmSUqVK0bhxY5KSkpTnsbGx9O7dW7nHp3fv3lmSpQ4fPhwXFxf09PRwcnLK8o4pU6agoaGR5VOyZMm8DFkIIYQQRVieAqEyZcowe/Zszp07x7lz52jatCkeHh5cvnwZlUpFhw4duH37Nrt37+b8+fM4ODjQvHlzEhMTlTZOnTqFu7s7bm5unD17lpCQEIYOHYqm5v93pWfPnoSHh+Pv74+/vz/h4eH07t1brS8qlYp+/frRrVu3bPs6atQooqOj1T7VqlWjS5cueRmyEEIIIYqwf7w0Vrp0aebNm8dnn31G5cqVuXTpEo6OjkB6YlZLS0vmzJmj3DJdv359WrRowfTp07Nt76+//qJatWqcPn2aevXqAXD69GlcXV25evUqlStXVqs/ZcoUdu3apdw1lJMLFy7g5OTEsWPH+OyzvK2VytKYEEIIUfjk+9LY21JTU9m8ebOSfT7jdum3c4tpaWmhq6vLiRMnAHj06BFnzpzB0tKSBg0aYGVlRaNGjZTnkD5jZGJiogRBkB48mZiYcPLkyfftLqtXr6ZSpUp5DoKEEEIIUXTlORC6ePEihoaG6OnpMXjwYCX7fJUqVXBwcMDHx4fY2Fhev37N7NmziYmJITo6GoDbt28D6bM4Xl5e+Pv7U7t2bZo1a6bsJYqJicHS0jLLey0tLYmJiXmvQSYnJ7Np0yb69+//Xr8XQgghRNGU50AoI/v86dOn+frrr+nbty9XrlxBR0eH7du3c/36dUqXLo2BgQFBQUG0atVKuTU6LS0NgEGDBvHVV1/h7OzMwoULqVy5sloi1OxSWvyTDPA7duwgPj6ePn36/G3d5ORkXrx4ofaRg3VCCCFE0ZSv2eddXFwIDw/n+fPnREdH4+/vz9OnTylXrhyAkli1WrVqam1WrVqVyMhIAKytrXn48GGW9z5+/BgrK6u8dhdIXxZr27Yt1tbWf1tXss8LIYQQxcd77xHKkF32eRMTEywsLLhx4wbnzp3Dw8MDgLJly2Jra8u1a9fU6l+/fh0HBwcAXF1diYuL4+zZs8rzM2fOEBcXR4MGDfLcv4iICI4ePZrrZTEfHx/i4uLUPhqaRnl+rxBCCCH++/I1+/zWrVuxsLDA3t6eixcvMnz4cDp06ICbmxuQvuQ1evRoJk+eTK1atXBycsLPz4+rV6+ybds2IH12yN3dHS8vL1auXAnAwIEDadu2rdqJsZs3b5KQkEBMTAxJSUnKqbFq1aqhq6ur1Fu7di02Nja0atUqV2OU7PNCCCFE8ZGv2eejo6MZOXIkDx8+xMbGhj59+jBx4kS1NkaMGMGrV6/w9vbm2bNn1KpVi4CAAMqXL6/U2bRpE8OGDVMCqPbt27N06VK1dgYMGEBwcLDyPSNDfUREBGXLlgXS9yStX78eT09Ptez2QgghhBAgKTZyRe4REkKIokFyjRUvkn0+n0ggJIQQQhQ+kn1eCCGEeIvMCInMZEYoF2RGSAghhCh8PmiKDUi/c0dDQ4MRI0YoZTt27KBly5aYm5ujoaGRYw6wv8tAf/36dTw8PDA3N8fY2JiGDRty9OjRLO2sX7+emjVrUqJECaytrRk6dKja84sXL9KoUSP09fX56KOPmDZtmlyQKIQQQgjgHwRCISEhrFq1ipo1a6qVJyYm0rBhQ2bPnp3jb3OTgb5Nmza8efOGwMBAQkNDcXJyom3btmppNhYsWMD48eMZO3Ysly9f5siRI7Rs2VJ5/uLFC1q0aIGtrS0hISEsWbKE+fPns2DBgvcdthBCCCGKkPdaGktISKB27dosW7aMGTNm4OTkxKJFi9Tq3Llzh3LlynH+/HmcnJzUnv1dBvonT55gYWGhlik+Pj4eY2NjDh8+TLNmzYiNjeWjjz5i7969NGvWLNt2li9fjo+PDw8fPlTuBpo9ezZLlizh/v37ub4fSJbGhBBCiMLngy2NDRkyhDZt2tC8efM8/zY3GejNzMyoWrUqGzZsIDExkTdv3rBy5UqsrKxwcXEBICAggLS0NB48eEDVqlUpU6YMXbt25d69e0o7p06dolGjRmoXJLZs2ZKoqCju3LnzPkMXQgghRBGS50Bo8+bNhIWF4evr+14vzE0Geg0NDQICAjh//jxGRkaUKFGChQsX4u/vT6lSpZR20tLSmDVrFosWLWLbtm08e/aMFi1a8Pr1ayA9k33m/GQZ3983k70QQgghio48HZ+/d+8ew4cP59ChQ5QoUeK9Xpg5Az2k3wp95MgR1q5di6+vLyqVim+++QZLS0uOHz+Ovr6+kjg1JCQEGxsb0tLSSElJYfHixcoN1L/99hvW1tYcPXpU2SuUefkrYyUwp2Wx5OTkLLnTVKr3z3wvhBDiv0OOz4vM8hQIhYaG8ujRI2V5CiA1NZVjx46xdOlSkpOT/zaVRW4y0AcGBrJv3z5iY2MxNjYGYNmyZQQEBODn58fYsWOzbcfCwgJzc3O1TPaZZ34ePXoEkGMme19fX6ZOnapWpqFpiIaW8TvHJYQQ4r9PAgKRWZ6Wxpo1a8bFixcJDw9XPnXq1KFXr16Eh4fnKp9XbjLQv3z5Mr1zmurd09TUVGaUGjZsCKDWzrNnz3jy5IlaJvtjx44pS2UAhw4dwtbWVslHlplknxdCCCGKjzzNCBkZGVG9enW1spIlS2JmZqaUP3v2jMjISKKiooD/D1Ssra2xtrbOVQZ6V1dXTE1N6du3L5MmTUJfX5+ff/6ZiIgI2rRpA0ClSpXw8PBg+PDhrFq1CmNjY3x8fKhSpQpNmjQBoGfPnkydOhVPT0/GjRvHjRs3mDVrFpMmTcpxqUuyzwshhBDFxz+6UDE7e/bswdnZWQlYunfvjrOzMytWrFDqjBgxAh8fH7y9valVqxZHjhxRy0Bvbm6Ov78/CQkJNG3alDp16nDixAl2795NrVq1lHY2bNhAvXr1aNOmDY0aNUJHRwd/f390dHQAMDExISAggPv371OnTh2++eYbRo4cyciRI/N72EIIIYQohCTFRi7IPUJCCFE0yGbp4uWDp9gQQgghhCjMZEYoF2RGSAghhCh8ZEZICCGEEOIdJBASQgghRLGVp+Pzmfn6+jJu3DiGDx+uJF2dMmUKmzdv5t69e+jq6uLi4sLMmTOpV68e8P/JWLPz+++/06VLF4KCgpQj8JmdPXuWunXrAhAZGcmQIUMIDAxEX1+fnj17Mn/+fHR1dYH0o/uDBw/mypUrxMXFYWtrS8+ePZk8ebJyskwIIUTxIZulRWbvHQiFhISwatUqatasqVZeqVIlli5dyscff0xSUhILFy7Ezc2NmzdvYmFhgZ2dHdHR0Wq/WbVqFXPnzqVVq1YANGjQIEudiRMncvjwYerUqQOk32jdpk0bLCwsOHHiBE+fPqVv376oVCqWLFkCgI6ODn369KF27dqUKlWKCxcu4OXlpeQoE0IIUbxIQCAye6/N0gkJCdSuXZtly5YxY8YMnJyclBmhzF68eIGJiQmHDx+mWbNm2dZxdnamdu3arFmzJtvnKSkplClThqFDhzJx4kQADh48SNu2bbl37x62trZAekJYT09PHj16pKTmyGzkyJGEhIRw/Hju/69ANksLIYQQhc8H2yw9ZMgQ2rRpQ/Pmzd9Z7/Xr16xatQoTExO1ixDfFhoaSnh4OP3798+xnT179vDkyRM8PT2VslOnTlG9enUlCAJo2bIlycnJhIaGZtvOzZs38ff3p1GjRu/stxBCCCGKhzwvjW3evJmwsDBCQkJyrLNv3z66d+/Oy5cvsbGxISAgAHNz82zrrlmzhqpVq9KgQYMc21uzZg0tW7bEzs5OKYuJicmSONXU1BRdXd0siVYbNGhAWFgYycnJDBw4kGnTpuX4Lsk+L4QQQhQfeZoRunfvHsOHD2fjxo2UKFEix3pNmjQhPDyckydP4u7uTteuXZWs729LSkri119/feds0P379/njjz+yrZNdcJJd0LJlyxbCwsL49ddf2b9/P/Pnz8/xfb6+vpiYmKh9VGnxOdYXQgghROGVpz1Cu3bt4osvvlDLMp+amoqGhgaampokJydnm4G+YsWK9OvXDx8fH7XyX375hf79+/PgwQMsLCyyfef06dNZsmQJDx48UDvpNWnSJHbv3s2FCxeUstjYWEqXLk1gYGCOp842btzIwIEDiY+Pz7av2c0ImZpVkRkhIYQQopDJzR6hPC2NNWvWjIsXL6qVffXVV1SpUoUxY8ZkG1hA+ixN5uAC0pe82rdvn2MQpFKpWLduHX369Mly3N3V1ZWZM2cSHR2NjY0NAIcOHUJPTw8XF5ccx6BSqUhJSSGn+E+yzwshhBDFR54CISMjI6pXr65WVrJkSczMzKhevTqJiYnMnDmT9u3bY2Njw9OnT1m2bBn379+nS5cuar+7efMmx44d48CBAzm+LzAwkIiIiGyXxdzc3KhWrRq9e/dm3rx5PHv2jFGjRuHl5aWcGNu0aRM6OjrUqFEDPT09QkND8fHxoVu3bmhr/6MrlIQQQghRBORrNKClpcXVq1fx8/PjyZMnmJmZUbduXY4fP46jo6Na3bVr1/LRRx/h5uaWY3tr1qyhQYMGVK1aNdt37d+/n2+++YaGDRuqXaiYQVtbmzlz5nD9+nVUKhUODg4MGTIEb2/v/Bu0EEIIIQotSbqaC3KPkBBCCFH45PseISGEEKIwkxQbIjOZEcoFmRESQgghCh+ZERJCCCHeIjNCIrN/NCOUXfZ5T09P/Pz81OrVq1eP06dPK99jYmIYPXo0AQEBxMfHU7lyZcaNG0fnzp2VOmXLluXu3btq7YwZM4bZs2dn6cfTp0+pVasWDx48IDY2llKlSinPVCoVP/zwA6tWreLu3btYWlry9ddfM27cuFyPU2aEhBBCiMLng84I5ZR9HsDd3Z1169Yp33V1ddWe9+7dm7i4OPbs2YO5uTm//vor3bp149y5czg7Oyv1pk2bhpeXl/Ld0NAw277079+fmjVr8uBB1gEPHz6cQ4cOMX/+fGrUqEFcXBxPnjzJ83iFEEIIUfS8VyCUkJBAr169+Pnnn5kxY0aW53p6elhbW+f4+1OnTrF8+XI++eQTACZMmMDChQsJCwtTC4SMjIze2Q7A8uXLef78OZMmTeLgwYNqz/766y+WL1/OpUuXqFy5cl6GKIQQQohi4INknw8KCsLS0pJKlSrh5eWVJc/Yp59+ypYtW3j27BlpaWls3ryZ5ORkGjdurFZvzpw5mJmZ4eTkxMyZM3n9+rXa8ytXrjBt2jQ2bNiApmbWoezdu5ePP/6Yffv2Ua5cOcqWLcuAAQN49uzZ+wxbCCGEEEVMvmefb9WqFV26dMHBwYGIiAgmTpxI06ZNCQ0NVVJXbNmyhW7dumFmZoa2tjYGBgbs3LmT8uXLK+0MHz6c2rVrY2pqytmzZ/Hx8SEiIoLVq1cD6TnBevTowbx587C3t+f27dtZ+nL79m3u3r3L1q1b2bBhA6mpqXh7e9O5c2cCAwPzOnQhhBBCFDF5CoQyss8fOnQox+zz3bp1U/5cvXp16tSpg4ODA/v376djx45A+lJYbGwshw8fxtzcnF27dtGlSxeOHz9OjRo1ANRuf65ZsyampqZ07txZmSXy8fGhatWqfPnllzn2Ny0tjeTkZDZs2EClSpWA9NuqXVxcuHbtWrbLZdklXc0uo70QQgghCr88LY2Fhoby6NEjXFxc0NbWRltbm+DgYBYvXoy2tjapqalZfmNjY4ODgwM3btwA4NatWyxdupS1a9fSrFkzatWqxeTJk6lTpw4//fRTju+uX78+kJ6jDNLzkG3dulXpR7NmzQAwNzdn8uTJyru1tbWVIAhQ0nVERkZm+x5fX19MTEzUPqq0+Lz8NQkhhBCikPjg2eefPn3KvXv3lAzxL1++BMiyp0dLS4u0tLQc333+/HkApZ3t27eTlJSkPA8JCaFfv34cP35cWWJr2LAhb9684datW0rZ9evXAXBwcMj2PT4+PowcOVKtzNSsSo79EkIIIUThla/Z5xMSEpgyZQqdOnXCxsaGO3fuMG7cOMzNzfniiy8AqFKlChUqVGDQoEHMnz8fMzMzdu3aRUBAAPv27QPST5WdPn2aJk2aYGJiQkhICN7e3rRv3x57e3sAtf1EgHIkvmrVqso9Qs2bN6d27dr069ePRYsWkZaWxpAhQ2jRooXaLNHb9PT0lL1MGWRZTAghhCia3uvUWE60tLS4ePEiHh4eVKpUib59+1KpUiVOnTqFkZERADo6Ohw4cAALCwvatWtHzZo12bBhA35+frRu3RpID0a2bNlC48aNqVatGpMmTcLLy4vffvstb4PT1GTv3r2Ym5vz+eef06ZNG6pWrcrmzZvzc9hCCCGEKKQk11guyM3SQgghROGTm5ul83VGSAghhBCiMJFASAghhBDFlmSfF0IIUWxI9nmR2T+aEfL19UVDQ4MRI0YoZRoaGtl+5s2bp9S5desWX3zxBRYWFhgbG9O1a1cePnyo1nbGCbESJUpgY2ND7969iYqKUqsTEhJCs2bNKFWqFKampri5uREeHq5W5/fff8fJyQkDAwMcHBzU+iGEEEKI4i3fs89HR0erfT948CD9+/enU6dOACQmJuLm5katWrWUNBcTJ06kXbt2nD59WrlfqEmTJowbNw4bGxsePHjAqFGj6Ny5MydPngQgPj6eli1b4uHhwbJly3jz5g2TJ0+mZcuW3L9/Hx0dHQ4ePEivXr1YsmQJbm5u/PXXXwwYMAB9fX2GDh36vkMXQghRSMnMiMjsvU6NJSQkULt2bZYtW8aMGTNwcnJi0aJF2dbt0KED8fHxHDlyBIBDhw7RqlUrYmNjMTY2BiA2NpbSpUsTEBCQYyLXPXv20KFDB5KTk9HR0eHcuXPUrVuXyMhI7OzsALh48SI1a9bk5s2blC9fnp49e5KSksLWrVuVdhYtWsQPP/xAZGRkru8HklNjQgghROHzwU6N/V32+QwPHz5k//799O/fXylLTk5GQ0ND7dLCEiVKoKmpyYkTJ7Jt59mzZ2zatIkGDRqgo6MDQOXKlTE3N2fNmjW8fv2apKQk1qxZg6Ojo3JrdHJycpacaPr6+ty/f5+7d+++z9CFEEIIUYTkORDKyD7v6+v7t3X9/PwwMjJSkq1Ces6wkiVLMmbMGF6+fEliYiKjR48mLS0ty7LamDFjlJurIyMj2b17t/LMyMiIoKAgNm7ciL6+PoaGhvzxxx8cOHAAbe30Fb+WLVuyY8cOjhw5QlpaGtevX1dmrjK/SwghhBDFT54CoYzs8xs3bswx+/zb1q5dS69evdTqWlhYsHXrVvbu3YuhoSEmJibExcVRu3btLLnKRo8ezfnz5zl06BBaWlr06dOHjJW8pKQk+vXrR8OGDTl9+jT/+9//cHR0pHXr1koOMi8vL4YOHUrbtm3R1dWlfv36dO/eHSDbvGiQPov04sULtY/cOSmEEEIUTXnaI7Rr1y6++OILtSAiNTUVDQ0NNDU1SU5OVp4dP36czz//nPDwcGrVqpVte0+ePEFbW5tSpUphbW3Nd999x+jRo7Ote//+fezs7Dh58iSurq6sWbOGcePGER0drWywfv36NaampqxZs0YJeDL6GBMTg4WFBUeOHKF169Y8fPgQS0vLLO+ZMmUKU6dOVf9L0jREU8s4t39NQgghhPgPyM0eoQ+WfX7NmjW4uLjkGAQBmJubAxAYGMijR49o3759jnUz4rXk5GQgPYu9pqam2obnjO+Zs9hraWnx0UfpG55/++03XF1dsw2CQLLPCyGEEMVJvmafz/DixQu2bt3KDz/8kG0769ato2rVqlhYWHDq1CmGDx+Ot7c3lStXBuDs2bOcPXuWTz/9FFNTU27fvs2kSZMoX748rq6uALRo0YLRo0czZMgQvv32W9LS0pg9ezba2to0adIESJ9x2rZtG40bN+bVq1esW7eOrVu3EhwcnOMYJfu8EEIIUXx8kJulN2/ejEqlokePHtk+v3btGj4+Pjx79oyyZcsyfvx4vL29lef6+vrs2LGDyZMnk5iYiI2NDe7u7mzevFkJUqpUqcLevXuZOnUqrq6uaGpq4uzsjL+/PzY2Nkpbfn5+jBo1CpVKhaurK0FBQXzyyScfYthCCCGEKGQk+3wuyD1CQgghROEj2eeFEEIIId5BAiEhhBBCFFuSfV4IIUSxIdnnRWZ52iOU3R07VlZWxMTEAOlH3KdOncqqVauIjY2lXr16/PTTTzg6Oir1k5OTGTVqFL/99htJSUk0a9aMZcuWUaZMGQDu3LnD9OnTCQwMJCYmBltbW7788kvGjx+Prq4uAE+fPqVXr178+eefPH36FEtLSzw8PJg1a5aSvywoKIiFCxdy9uxZXrx4QcWKFRk9ejS9evXK81+S7BESQgghCp8PskfI0dGR6Oho5fP2vUJz585lwYIFLF26lJCQEKytrWnRogXx8fFKnREjRrBz5042b97MiRMnSEhIoG3btqSmpgJw9epV0tLSWLlyJZcvX2bhwoWsWLGCcePG/X+nNTXx8PBgz549XL9+nfXr13P48GEGDx6s1Dl58iQ1a9Zk+/bt/Pnnn/Tr148+ffqwd+/evA5ZCCGEEEVUnmeEdu3aRXh4eJZnKpUKW1tbRowYwZgxY4D02R8rKyvmzJnDoEGDiIuLw8LCgl9++YVu3boBEBUVhZ2dHQcOHKBly5bZvnfevHksX76c27dv59i3xYsXM2/ePO7du5djnTZt2mBlZcXatWtzO2RAZoSEEEKIwijfb5YGuHHjBra2tujp6VGvXj1mzZrFxx9/TEREBDExMbi5uSl19fT0aNSoESdPnmTQoEGEhoaSkpKiVsfW1pbq1atz8uTJHAOhuLg4SpcunWOfoqKi2LFjB40aNXpn3+Pi4qhatWoeRyyEEKKokD1CIrM8BUL16tVjw4YNVKpUiYcPHzJjxgwaNGjA5cuXlX1CVlZWar+xsrLi7t27AMTExKCrq4upqWmWOhm/z+zWrVssWbIk21uqe/Towe7du0lKSqJdu3asXr06x75v27aNkJAQVq5cmZchCyGEKEIkIBCZ5WmPUKtWrejUqRM1atSgefPm7N+/H0i/vTlD5nQUKpXqb1NU5FQnKioKd3d3unTpwoABA7I8X7hwIWFhYezatYtbt25lyRGWISgoCE9PT37++We1jdvZkezzQgghRPHxj+4RKlmyJDVq1ODGjRtYW1sDZJnZefTokTJLZG1tzevXr4mNjc2xToaoqCiaNGmCq6srq1atyvb91tbWVKlSBQ8PD1auXMny5cuJjo5WqxMcHEy7du1YsGABffr0+dsx+fr6YmJiovZRpcX/7e+EEEIIUfj8o3uEkpOT+euvv/jss88oV64c1tbWBAQE4OzsDMDr168JDg5mzpw5ALi4uKCjo0NAQABdu3YFIDo6mkuXLjF37lyl3QcPHtCkSRNcXFxYt24dmpp/H69lzk4P6TNBbdu2Zc6cOQwcODBXY5Ls80IIUXTJHiGRWZ4CoVGjRtGuXTvs7e159OgRM2bM4MWLF/Tt2xcNDQ1GjBjBrFmzqFixIhUrVmTWrFkYGBjQs2dPAExMTOjfvz/fffcdZmZmlC5dmlGjRilLbZA+E9S4cWPs7e2ZP38+jx8/Vt6fMet04MABHj58SN26dTE0NOTKlSt8//33NGzYkLJlywLpQVCbNm0YPnw4nTp1UmaqdHV137nxWrLPCyGEEMVHngKh+/fv06NHD548eYKFhQX169fn9OnTODg4APD999+TlJTEN998o1yoeOjQIYyMjJQ2Fi5ciLa2Nl27dlUuVFy/fj1aWloAHDp0iJs3b3Lz5k3lksUMGbM++vr6/Pzzz3h7e5OcnIydnR0dO3Zk7NixSt3169fz8uVLfH198fX1VcobNWpEUFBQ3v6WhBBCFAkyMyIyk+zzuSD3CAkhhBCFj2SfF0IIIYR4BwmEhBBCCFFsSSAkhBBCiGIrT4HQlClT0NDQUPtknORKSUlhzJgx1KhRg5IlS2Jra0ufPn2IiopSa2PVqlU0btwYY2NjNDQ0eP78eZb3xMbG0rt3b+Uen969e6vVW79+fZZ+ZHwePXoEpGexz+65v79/Hv+KhBBCCFFU5fkeIUdHRw4fPqx8zzjt9fLlS8LCwpg4cSK1atUiNjaWESNG0L59e86dO6fUf/nyJe7u7ri7u+Pj45PtO3r27Mn9+/eVoGXgwIH07t1byRzfrVs33N3d1X7j6enJq1evsLS0VCs/fPiw2m3S7zo6L4QQQojiJc+BkLa2tjIL9DYTExMCAgLUypYsWcInn3xCZGQk9vb2AIwYMQIgxyPsf/31F/7+/pw+fZp69eoB8PPPP+Pq6sq1a9eoXLky+vr66OvrK795/PgxgYGBrFmzJkt7ZmZm2fZXCCFE8SMXKorM8i37fHbi4uLQ0NCgVKlSuW7/1KlTmJiYKEEQQP369TExMeHkyZNUrlw5y282bNiAgYEBnTt3zvKsffv2vHr1iooVK+Lt7Z1tHSGEEMWDBAQis3zLPm9mZqZW99WrV4wdO5aePXtibGyc63fExMRkWd4CsLS0zDFD/dq1a+nZs6faLJGhoSELFiygYcOGaGpqsmfPHrp164afnx9ffvllrvsjhBCi6JAZIZFZngKhVq1aKX+uUaMGrq6ulC9fHj8/P7X8XCkpKXTv3p20tDSWLVuW505ll9Iipwz1p06d4sqVK2zYsEGt3NzcHG9vb+V7nTp1iI2NZe7cue8MhJKTk9Xylb3r3UIIIQoXCQhEZv8o6erb2eczpKSk0LVrVyIiIggMDMzTbBCk5xN7+PBhlvLHjx9nyVAPsHr1apycnHBxcfnbtuvXr8/q1avfWcfX15epU6eqlWloGqKhlbdxCCGE+O+RGSGRWb5ln4f/D4Ju3LjB0aNHsyyX5YarqytxcXGcPXuWTz75BIAzZ84QFxdHgwYN1OomJCTw+++/q+USe5fz589jY2PzzjqSfV4IIYouCQhEZvmWff7Nmzd07tyZsLAw9u3bR2pqqrKnp3Tp0ujq6gLpe4BiYmK4efMmABcvXsTIyAh7e3tKly5N1apVcXd3x8vLi5UrVwLpx+fbtm2bZaP0li1bePPmDb169crSVz8/P3R0dHB2dkZTU5O9e/eyePFi5syZ884xSvZ5IYQQovjIt+zzd+7cYc+ePQA4OTmp/e7o0aM0btwYgBUrVqgtPX3++ecArFu3Dk9PTwA2bdrEsGHDcHNzA9JPfi1dujRLf9asWUPHjh0xNTXNtr8zZszg7t27aGlpUalSJdauXSsbpYUQQgihkOzzuSDZ54UQQojCJzfZ5//RHiEhhBCiMJHN0iIzmRHKBZkREkIIIQqf3MwISfZ5IYQQQhRbEggJIYQQotiSQEgIIYQQxZZslhZCCFFsyGZpkZlsls4F2SwthBBCFD6yWVoIIYQQ4h1kaUwIIUSxIUtjIguV+M969eqVavLkyapXr14VdFf+VTJuGXdxIOOWcRcHhWHcskfoP+zFixeYmJgQFxeHsbFxQXfnXyPjlnEXBzJuGXdxUBjGLXuEhBBCCFFsSSAkhBBCiGJLAiEhhBBCFFsSCP2H6enpMXnyZPT09Aq6K/8qGbeMuziQccu4i4PCMG7ZLC2EEEKIYktmhIQQQghRbEkgJIQQQohiSwIhIYQQQhRbEggJIYQQotiSQEgIIYQQxZYEQuI/482bNxw+fJiVK1cSHx8PQFRUFAkJCQXcM5HfpkyZwt27dwu6G0J8cE+ePOHcuXOEhoby9OnTgu6OyIYEQuI/4e7du9SoUQMPDw+GDBnC48ePAZg7dy6jRo0q4N6J/LZ3717Kly9Ps2bN+PXXX3n16lVBd+lf9fr1a65du8abN28KuiviA7l8+TKff/45VlZW1KtXj08++QRLS0uaNm3KtWvXCrp7H5SnpyfHjh0r6G7kmgRC/0Gpqals376dGTNmMHPmTHbs2EFqampBd+uDGj58OHXq1CE2NhZ9fX2l/IsvvuDIkSMF2LMP6+HDh/Tu3RtbW1u0tbXR0tJS+xRVoaGhhIWFUbNmTby9vbGxseHrr78mJCSkoLv2Qb18+ZL+/ftjYGCAo6MjkZGRAAwbNozZs2cXcO8+rFu3bjFhwgR69OjBo0ePAPD39+fy5csF3LP8FxMTQ6NGjXj8+DELFizgwIED7N+/n3nz5hEdHc1nn32m/B0URfHx8bi5uVGxYkVmzZrFgwcPCrpL71Zwie9Fdm7cuKGqVKmSysDAQOXs7KxycnJSGRgYqCpXrqy6efNmQXfvgzEzM1NdvXpVpVKpVIaGhqpbt26pVCqVKiIiQqWvr1+QXfug3N3dVdWqVVMtW7ZMtXPnTtWuXbvUPsVBSkqKaseOHap27dqpdHR0VNWrV1ctWrRI9fz584LuWr4bNmyYysXFRXX8+HFVyZIllX/Od+/erXJycirg3n04QUFBKn19fVXz5s1Vurq6yrjnzJmj6tSpUwH3Lv99//33qtq1a6uSkpKyPHv58qWqdu3aqrFjxxZAz/49T548US1atEjl5OSk0tbWVrm7u6u2bt2qev36dUF3LQsJhP5jWrVqpXJ3d1c9ffpUKXvy5InK3d1d1bp16wLs2Ydlamqqunz5skqlUg+Ejh8/rrK0tCzIrn1QhoaGqvPnzxd0NwpUcnKyavPmzSo3NzeVtra26vPPP1dVrlxZZWRkpNq8eXNBdy9f2dvbq06dOqVSqdT/Ob9x44bKyMioILv2QdWvX1/1ww8/qFQq9XGfPXtWZWtrW5Bd+yCcnZ1VW7ZsyfH5b7/9pnJ2dv4Xe1SwwsLCVEOHDlWVKFFCZW5urhoxYoTq+vXrBd0thSyN/ccEBwczd+5cSpcurZSZmZkxe/ZsgoODC7BnH1aLFi1YtGiR8l1DQ4OEhAQmT55M69atC65jH5idnR2qYprlJjQ0lKFDh2JjY4O3tzfOzs789ddfBAcHc/XqVSZPnsywYcMKupv56vHjx1haWmYpT0xMRENDowB69O+4ePEiX3zxRZZyCwuLIrmB+Pbt29SuXTvH53Xq1OH27dv/Yo8KTnR0NIcOHeLQoUNoaWnRunVrLl++TLVq1Vi4cGFBdw+QPUL/OXp6esqJqbclJCSgq6tbAD36dyxcuJDg4GCqVavGq1ev6NmzJ2XLluXBgwfMmTOnoLv3wSxatIixY8dy586dgu7Kv6pmzZrUr1+fiIgI1qxZw71795g9ezYVKlRQ6vTp00fZNF9U1K1bl/379yvfM4Kfn3/+GVdX14Lq1gdXqlQpoqOjs5SfP3+ejz76qAB69GHFx8djbGyc43MjI6MifRo2JSWF7du307ZtWxwcHNi6dSve3t5ER0fj5+fHoUOH+OWXX5g2bVpBdxUA7YLugFDXtm1bBg4cyJo1a/jkk08AOHPmDIMHD6Z9+/YF3LsPx9bWlvDwcH777TfCwsJIS0ujf//+9OrVS23zdFHTrVs3Xr58Sfny5TEwMEBHR0ft+bNnzwqoZx9Wly5d6Nev3zv/I2hhYUFaWtq/2KsPz9fXF3d3d65cucKbN2/48ccfuXz5MqdOnSrSM749e/ZkzJgxbN26FQ0NDdLS0vjf//7HqFGj6NOnT0F374OIj4+nRIkS2T578eJFkZ4JtrGxIS0tjR49enD27FmcnJyy1GnZsiWlSpX61/uWHck+/x/z/Plz+vbty969e5X/KL5584b27duzfv16TExMCriHIj/5+fm983nfvn3/pZ78u6ZNm8aoUaMwMDBQK09KSmLevHlMmjSpgHr24V28eJH58+cTGhpKWloatWvXZsyYMdSoUaOgu/bBpKSk4OnpyebNm1GpVGhra5OamkrPnj1Zv359kTshqamp+c6lTpVKhYaGRpE9Dbxhwwa6du2aYyD4XyOB0H/UjRs3uHr1KiqVimrVqqktGRQVe/bsyXXdojwbVhxpaWkRHR2dZb/M06dPsbS0LLL/gSjubt++rcz4Ojs7U7FixYLu0geR29m9Ro0afeCe/PvevHlDiRIlCA8Pp3r16gXdnVyRQEgUGE1N9S1qGhoaWaaLM/6vqij/hzE1NZVdu3bx119/oaGhQbVq1Wjfvn2R+7/kt2lqavLw4UMsLCzUygMDA+nWrVuR2xuUQQJAURyUL1+eHTt2UKtWrYLuSq7IHqH/iNxuGitKSwZv7/84fPgwY8aMYdasWbi6uqKhocHJkyeZMGECs2bNKsBeflg3b96kdevWPHjwgMqVK6NSqbh+/Tp2dnbs37+f8uXLF3QX85WpqSkaGhpoaGhQqVIlteWD1NRUEhISGDx4cAH28MPK6f87k5OTi/RhiM6dO1OnTh3Gjh2rVj5v3jzOnj3L1q1bC6hnH8aLFy9yVe9dG6oLswkTJuDj48PGjRvVTkD/V8mM0H+Es7Nzjs80NDS4du0ar169KrL/x1i9enVWrFjBp59+qlZ+/PhxBg4cyF9//VVAPfuwWrdujUqlYtOmTcq/MJ4+fcqXX36Jpqam2gmjosDPzw+VSkW/fv1YtGiR2p43XV1dypYtWyRPTy1evBgAb29vpk+fjqGhofIsNTWVY8eOcefOHc6fP19QXfygLCwsCAwMzLIP6uLFizRv3pyHDx8WUM8+jOK+R8jZ2ZmbN2+SkpKCg4MDJUuWVHseFhZWQD3LnswI/Ufk9C/A8PBwxo4dy6VLl/Dy8vqXe/XvuXXrVrYbwU1MTIr00fLg4GBOnz6d7b1RDRs2LMCefRgZm7/LlStHgwYNspySK6oy7ktRqVSsWLFCbdkzIwBcsWJFQXXvg8vp+g8dHZ1cz54UJkePHi3oLhQoDw+PQnUvlgRC/1ERERFMnDiRLVu20LFjRy5fvlxkNxZC+v0qI0aMYOPGjdjY2ADp+Xq+++475RqBoqg43Rv14sULZSnA2dmZpKQkkpKSsq1b1JYMIiIiAGjSpAk7duzA1NS0gHv076pevTpbtmzJsrS/efNmqlWrVkC9+nAaNWrEmzdv2LRpEy1btsTa2rqgu/SvmjJlSkF3IW/+3Yusxd95/PixaujQoSpdXV1V06ZNVWfPni3oLv0rbty4oapevbpKR0dHVb58eVX58uVVOjo6KkdHR9WNGzcKunsfTO/evVWOjo6q06dPq9LS0lRpaWmqU6dOqapXr67q27dvQXcvX2lqaqoePnyoUqlUKg0NDZWmpmaWT0a5KFp2796t0tbWVvXp00e1fv161fr161W9e/dWaWtrq3bu3FnQ3ftg9PX1VXfu3CnobvzrypUrp3ry5EmW8tjYWFW5cuUKoEfvJjNC/xGJiYnMnz+fBQsWUKFCBfbu3Yubm1tBd+tfU6FCBf78808CAgLUrg1o3rx5oZpizavFixfTt29fXF1ds9wb9eOPPxZw7/JXYGCgsgRYnJcO7t+/z549e4iMjOT169dqzxYsWFBAvfqw2rdvz65du5g1axbbtm1DX1+fmjVrcvjw4SJ5hDxDvXr1OH/+PA4ODgXdlX/VnTt3st3/lJyczP379wugR+8mm6X/I6ytrYmPj+fbb7+lR48eOf7Hv2bNmv9yz8S/oTjcG/W2yMhI7OzssvxzrlKpuHfvHvb29gXUsw/ryJEjtG/fnnLlynHt2jWqV6/OnTt3UKlU1K5dm8DAwILuoshHW7duZezYsXh7e+Pi4pJl03BR+/d5xt1wHTp0wM/PT23fZ2pqKkeOHCEgIIBr164VVBezJYHQf8Tbd+pkvk8n43tRPmUA6RuH58+fr9ynU7VqVUaPHs1nn31W0F0T+ay43qfzySef4O7uzrRp0zAyMuLChQtYWlrSq1cv3N3d+frrrwu6iyIfZb4rDYr2v88zxpvdnXA6OjqULVuWH374gbZt2xZE93IkS2P/ERmbKYurjRv/r707jWrqavsG/g8gCAKCFqlFKiC9ESooFNBqVSYBcUJaK4gzVopDvUWp9LE4t8WKwtJbi3UEFYcqOLQWkEhRtCjIEBVECTK0gooCDiAi7OeDD3mJCdb3XpzseLJ/a7nanJMPf5caruyz93Xtx6xZs+Dn54evvvoKhBBcvHgR7u7u2Lt3L6ZMmUI7YqcJDQ3F2rVr0a1bN4SGhr72vXx9VNL2g+BVT548eWva8v83ioqKcPDgQQCAhoYGGhsboaurizVr1mDChAm8KoR69OiBmzdv4p133pH0j+oIX2fqqdrneltvOHNzc2RnZ+Odd96hnOjNsEJISajaM+RXfffdd/jxxx+xePFiybVFixZh06ZNWLt2La8Koby8PDQ3N0v+X5W0FX4CgQARERFSs8ZaWlpw6dIluQMa+aJbt25oamoC8HLQsFgsxocffggAqKmpoRmt00VHR0NPTw8AEBMTQzcMJar6uf62FYCsEFJC58+fx/bt2yEWi3H06FGYmJhg3759MDc3l2k4yBelpaUYN26czPXx48fjf/7nfygk4k77jcKqtmm4rfAjhODq1atSLQI0NTUxcOBALF26lFY8zg0ZMgQXLlyAjY0NxowZgyVLluDq1atITEzEkCFDaMfrVG09o168eAEAKnmMHAD27duH2NhY3L59G3/++Sf69u2LmJgYmJubY8KECbTjcUYoFEIoFOLevXtSUwQAYPfu3ZRSySf7AJOh6tixY/Dy8oK2tjby8vIk3x4fP37M61ETpqamEAqFMteFQiFMTU0pJFKM2bNny+0j9PTpU8yePZtCIm6lp6cjPT0dM2bMwO+//y55nZ6ejpSUFGzfvp3X/bI2bdqEwYMHA3jZa2XUqFE4fPgw+vbti127dlFOxw0NDQ2EhIRIPstUyU8//YTQ0FD4+Pigrq5OsifIwMCA16tkq1evhqenJ4RCIWpqalBbWyv1S+lQOLLPvMagQYNIXFwcIYQQXV1dIhaLCSGE5OXlEWNjY5rROLVt2zaiqalJvvzySxIfH0/27dtHgoODiZaWFomNjaUdjzPte+u0d//+faKurk4hEcN0PhcXF173C+qItbW15Pfd/vP86tWrpGfPnhSTcevdd98l8fHxtGO8MfZoTMkUFxdjxIgRMtf19fVRV1en+EAKEhISgnfffRcbN27EkSNHAADW1tY4fPgwL5ePHz16BEIICCF4/Pix1AbhlpYWnD59WuZEFZ88ffoUkZGRHS6dl5aWUkrGLUIIrly5grKyMggEApibm8Pe3p7XvbIAYN68eViyZAn++usvlThG3ub27dty50hqaWnh6dOnFBIpxvPnzzF06FDaMd4YK4SUTO/evVFSUgIzMzOp65mZmbCwsKATSkEmTpyIiRMn0o6hEAYGBlJT2F8lEAiwevVqCskUY86cOcjIyMC0adPQu3dv3hcCwMvHgkFBQSgvL5ccLW4rhnbv3i33CxBfTJ48GQDw1VdfSa7x+Rh5G3Nzc+Tn58tsmv799995OVqkzZw5c5CQkICIiAjaUd4IK4SUTHBwMBYtWoTdu3dDIBDgzp07+PPPP7F06VKZOT18UFtbi/3792PGjBky86Xq6+sRHx8v997bLj09HYQQuLm54dixY1JDVzU1NdG3b1+89957FBNy6/fff8dvv/3Gy8Gy8pSUlGDs2LEYPHgwoqOj0b9/fxBCUFhYiM2bN8PHxwcikYi3X3betlNEnSUsLAzz58/Hs2fPQAjB5cuXcfDgQfzwww/YuXMn7XicefbsGX7++WekpaXBzs5OZriysrUFYQ0VldDy5csRHR2NZ8+eAXi5jLp06VKsXbuWcrLOt3btWohEIvzyyy9y73/++ecYOHAgli9fruBkilFeXg5TU1O5jdf4zNzcHKdPn4a1tTXtKAqxYMECFBUVyT0QQAiBh4cHbGxssGXLFgrpuPX48WNkZWWhubkZzs7Ob01vmc6yY8cOrFu3DpWVlQAAExMTrFq1CkFBQZSTccfV1bXDewKBQOk6qLNCSEk1NDSgsLAQra2tsLGxga6uLu1InBg0aBA2btwId3d3ufeFQiGWLl3K6347tbW12LVrl1RH7VmzZkmtEvHN/v37ceLECcTFxUn1EuKrAQMG4IcffpDbIgIATp06hW+++QbXrl1TcDJuiUQijB49GtXV1SCEQF9fH0ePHoWHhwftaApXU1OD1tZWXu/9e1uxQkjJ1NfXo6WlReaH4MOHD6GhocG7R0R6enq4fv16h7OlKioqMGDAADx69EjByRQjIyMD48ePR/fu3eHo6AgAuHLlCurq6nDy5EneDqS0t7eHWCwGIQRmZmYyS+e5ubmUknFDX18fIpFIZu9fm9u3b8POzk5uK4W3mY+PD2pra7Fx40Z07doVq1evRnFxMW7cuEE7GsNIsD1CSsbf3x/jxo3DvHnzpK4fOXIEJ0+exOnTpykl44a6ujru3LnTYSF0584dXj82mj9/PiZPnoyffvoJ6urqAF6eGps3bx7mz5/PuxWCNr6+vrQjKNSTJ09eu/Klo6ODhoYGBSZSjJycHJw+fVpS5O/evRu9evXCkydPeLvK3d6DBw+wYsUKpKenyz0dydfRIq6urq89AKFsj8ZYIaRkLl26JHcjmYuLCy/3ydjb2+P48eMddtVNSkqSe/yUL8RiMY4dOyYpgoCXxWFoaCji4+MpJuPWypUraUdQuMLCQlRXV8u9x7fxGm1qamqkvuT07NkTOjo6uH//vkoUQlOnToVYLEZQUBCMjY1V4nQkAJkxOc3NzcjPz8e1a9ckHceVCSuElExTU5OkJX17zc3NaGxspJCIWwsWLIC/vz/69OmDkJAQqVWRbdu2ITo6GgkJCZRTcsfBwQFFRUWwsrKSul5UVMTrmVuqyN3dXWYiNyB9jJxvBAKBVJ+stt/n48ePpR538+2Rf5vMzExkZmZi4MCBtKMoVHR0tNzrq1atwpMnTxSc5p+xPUJKxsXFBba2tjKnR+bPnw+RSITz589TSsad5cuX44cffoCenh4sLCwgEAggFovx5MkThIWFITIyknZEzhw+fBhff/01Fi5cKFkVy8rKwtatWxEZGSl1qopPTedaWloQHR2NI0eOoKKiAs+fP5e6z7dHBuXl5W/0Pr4N6VRTU5Mp8NoXfXzvI+Tk5IQtW7bwbo7cf6ukpATOzs5K9++bFUJK5sKFC/Dw8ICTk5PkJJVQKER2djZSU1MxfPhwygm5cfnyZRw4cAAlJSUghOBf//oXpkyZAmdnZ9rROPVP+5/42nRuxYoV2LlzJ0JDQxEREYHly5ejrKwMx48fx4oVK6Qa7zFvr4yMjDd6H18PBWRnZyM8PBwrVqzAgAEDZA4F8HUlrCP79u3DsmXLcOfOHdpRpLBCSAnl5+djw4YNyM/Ph7a2Nuzs7PDNN9/wehjl8+fPpSaRt1dTU8Pb3iNvulIA8Gu1oF+/fti8eTPGjBkDPT095OfnS65lZWXx+nHo+fPnsX37dojFYhw9ehQmJibYt28fzM3N8cknn9COx3SiW7duISAgQKb9Bx+/3LTn5+cn9ZoQgqqqKuTk5CAiIkLp9giyPUJKaNCgQThw4ADtGAr1+eefIzExUWaF5O7du3B3d+ft6Sk+FTf/P6qrq2FrawsA0NXVRX19PQBg7Nixb01b/v/GsWPHMG3aNAQGBiIvL08ykf3x48f4/vvveXcqtI26ujqqqqpkeug8ePAAvXr14m1BEBgYCE1NTSQkJKjUZunu3btLvVZTU4OVlRXWrFkDT09PSqk6xgohJfDo0SPJEuk/9cvh61JqVVUVgoKCsGfPHqlrbm5u+PDDDykm63wnT57E6NGj0aVLF5w8efK17x0/fryCUilWnz59UFVVhffffx+WlpZITU2Fg4MDsrOzoaWlRTseZ9atW4fY2FhMnz4dhw4dklwfOnQo1qxZQzEZtzp68NDU1NThSjAfXLt2DXl5eTKHIfiu/ef424AVQkrA0NBQ8m2pbRjnq/i+lHr69GmMGDECixcvRnR0NP7++2+4ublh4MCBUj8w+MDX1xfV1dXo1avXa/vp8PnPe+LEiRAKhRg8eDAWLVqEgIAA7Nq1CxUVFVi8eDHteJwpLi6WO1xVX18fdXV1ig/Esc2bNwN4+Xd5586dUkfmW1pacO7cOfTv359WPM45OjqisrJS5QqhNleuXJF0zLexsVHaViisEFICZ8+elXSSTk9Pp5yGjp49eyIlJUWyR+K3336Dg4MDDhw4wLuGiu2bqr3aYE1VtD8J+Nlnn6FPnz64ePEiLC0tebsKBgC9e/dGSUmJTIfpzMxMXg5cbTtGTQhBbGysVL8sTU1NmJmZITY2llY8zi1cuBCLFi1CWFgYbG1tZTZL8+kkaHv37t2Dv78//vjjDxgYGIAQgvr6eri6uuLQoUMwMjKiHVEaYRglcvPmTdKrVy8SGBhIWltbacfh1PPnz4mLiwspLi6mHYVRkPXr1xMbGxuSlZVF9PT0yPnz58n+/fuJkZER2bJlC+14nHFxcSEPHz6kHUPhBAKBzC81NTXJf/nq888/Jx999BEpLCyUXLt+/TpxdHQk/v7+FJPJx06NKaG6ujqpIZw2NjaYPXu2zAa0t52hoaHcx4ANDQ3Q0tKS+vaobH0nOouRkREuXrzI6xOB8vxT1+zp06crKIniLV++HNHR0Xj27BkAQEtLC0uXLsXatWspJ2M62z+dCuXrYYnu3bsjLS0NTk5OUtcvX74MT09PpXsMzAohJZOTkwMvLy9oa2vD2dkZhBDk5OSgsbFRsqGUL+Li4t74vcrYlr0zLFmyBF26dOF100h5DA0NpV43NzejoaEBmpqa0NHR4W3h26ahoQGFhYVobW2FjY0NL8dNhIaGYu3atejWrRtCQ0Nf+155Y4WYt5eenh7Onz8v0x0/Ly8PI0eOVLoh2qwQUjLDhw+HpaUlduzYAQ2Nl1u4Xrx4gTlz5qC0tBTnzp2jnJDpTAsXLkR8fDwsLS3h6OiIbt26Sd1XpR8Qt27dQkhICMLCwuDl5UU7Difq6+vR0tIi2RPY5uHDh9DQ0ODVqVBXV1ckJSXBwMAArq6uHb5PIBAo3RDOziQWixETEyNZ4be2tsaiRYvQr18/2tE4M2HCBNTV1eHgwYN47733AAB///03AgMDYWhoiKSkJMoJpbFCSMloa2sjLy9P5iRFYWEhHB0deTmhGnh5akxdXV3mB2BqaipaWlowevRoSsm4pco/IOTJycnB1KlTcePGDdpRODF69GiMGzcO8+bNk7oeGxuLkydP8raPkKpKSUnB+PHjMWjQIAwbNgyEEFy8eBEFBQU4deoURo0aRTsiJyorKzFhwgRcu3YNpqamEAgEqKiogK2tLU6cOIE+ffrQjiiFFUJKxtjYGPv27ZNpOpWSkoLp06fj7t27lJJxy87ODpGRkfDx8ZG6npycjGXLlqGgoIBSMkaRlHXpvLP06NEDFy5ckJohBwA3btzAsGHD8ODBA0rJGC7Y29vDy8tL5tF3eHg4UlNTkZubSymZYpw5cwY3btwAIQQ2Njbw8PCgHUkudnxeyUyePBlBQUGIiorC0KFDIRAIkJmZibCwMAQEBNCOx5lbt27BxsZG5nr//v1RUlJCIZFiqNKjkvZebSRJ/q8F/3/+8x8MGzaMUiruNTU14cWLFzLXm5ub0djYSCGRYjx9+hSRkZEQCoW4d++eTNuI0tJSSsm4VVRUhCNHjshcnz17NmJiYhQfiGNnz57FggULkJWVBX19fYwaNUqy6lVfX48PP/wQsbGxSjczkxVCSiYqKgoCgQDTp0+XfGB26dIFISEhvN5Q2717d5SWlsr0VykpKZHZN8Mn/v7+ch+VHDlyhNePSl5tJCkQCGBkZAQ3Nzds3LiRTigFcHJyws8//4wtW7ZIXY+NjcVHH31EKRX35syZg4yMDEybNg29e/dWmVETRkZGyM/PlzkVmp+fLzNuhA9iYmLwxRdfyP0C1717dwQHB2PTpk1KVwixR2NKqqGhAWKxGIQQWFpaQkdHh3YkTs2dOxdZWVlISkqSbCIsKSnBp59+CicnJ+zcuZNyQm6o+qOS+/fvQ1NTk3etITpy4cIFeHh4wMnJCe7u7gAAoVCI7OxspKamKt0PiM5iYGCA3377jderffKsWbMG0dHRCA8Pl1rhX79+PZYsWYJvv/2WdsRO1bdvXyQnJ8t8nrW5ceMGPD09UVFRoeBk/0DhnYuY19q7dy958uQJ7RgKV1dXR4YMGUI0NDSImZkZMTMzIxoaGsTV1ZXU1tbSjscZHR0dIhKJZK6LRCKira1NIRH3amtrybx580jPnj2JmpoaUVNTI8bGxiQ8PJw8ffqUdjzO5eXlkSlTphAbGxvy0UcfkVmzZpGbN2/SjsUpMzMzqeZ6qqK1tZVs2rSJmJiYSBoqmpiYkJiYGF42jNXS0iK3bt3q8P6tW7dI165dFZjozbAVISVjZGSEhoYGjBs3DlOnToW3t7fkGD3fEUJw5swZFBQUQFtbG3Z2dnLnMvGJi4sLbG1tZR6VzJ8/HyKRCOfPn6eUjBsPHz7Exx9/LDlKa21tDUIIioqKkJCQgP79+yMzMxMFBQW4dOkSvvrqK9qRmU6wf/9+nDhxAnFxcbxf3e7I48ePAbzsscNX/fr1Q1RUFCZOnCj3fmJiIpYuXap0e8JYIaRkXrx4geTkZBw8eBAnTpyAtrY2Jk2ahKlTp2Lo0KG04zGdTNUelfz73/+GUChEWloajI2Npe5VV1fD09MTVlZWSE1NxebNm3nRSPPRo0eSPRP/dBqOr5vj7e3tJY/6zczMZGZu8fX0lJubGxITE2FgYCB1/dGjR/D19eVde4yFCxfijz/+QHZ2Nrp27Sp1r7GxEc7OznB1dZUM41UWrBBSYg0NDUhKSkJCQgLS0tLQp08fiMVi2rE4k5GRgaioKKnGY2FhYbwrBl6Vn5+PDRs2ID8/X7IS9s033/By7IaZmRm2b9/eYcPE5ORk+Pj4YOXKlVi5cqWC03FDXV0dVVVV6NWrF9TU1ORuFCaEQCAQoKWlhUJC7q1ateq1G6T58mf9KjU1NVRXV8tsjL537x5MTEzQ3NxMKRk37t69CwcHB6irq2PBggWwsrKCQCBAUVERtm7dipaWFuTm5sp8CaKNFUJKrqamBocOHUJsbCyKiop4+0G5f/9+zJo1C35+flKNx5KSkrB3715MmTKFdkSmE2hpaUEsFnfYUO2vv/6CmZmZ3CPmb6uMjAwMGzYMGhoayMjIeO17R44cqaBUDJdEIhEAYNCgQTh79qxUe4yWlhYkJydj+/btKCsro5SQO+Xl5QgJCUFKSgrayguBQAAvLy9s27ZN5mSwMmCFkBJqWwk6cOAA0tLSYGpqioCAAMmeCj6ytrbG3LlzsXjxYqnrmzZtwo4dO1BUVEQpGbdyc3PRpUsX2NraAgBOnDiBPXv2wMbGBqtWrYKmpiblhJ3LxMQEhw8fxieffCL3/vnz5zF58mTcuXNHwckYLnS0Aqavrw8rKyt8/fXX8PPzo5CMW+1/3/J+xGpra2PLli2YPXu2oqMpTG1tLUpKSkAIwQcffCAzX1CZsEJIyQQEBODUqVPQ0dHBpEmTEBgYqBJ7g7S0tHD9+nVYWlpKXS8pKcGAAQMkk7r5xsnJCeHh4fj0009RWloKGxsb+Pn5ITs7G2PGjOFd07WgoCCUlJTgzJkzMkVeU1MTvLy8YGFhgd27d1NKyL26ujrs2rVL8gjYxsYGs2fP5mULgRMnTsi9XldXh8uXL2PPnj2Ii4vDpEmTFJyMW+Xl5SCEwMLCApcvX4aRkZHknqamJnr16gV1dXWKCZn2WCGkZKZMmYLAwEB4eXmpzGkxALC0tERYWBiCg4Olrm/fvh1RUVG4desWpWTc6t69O3Jzc9GvXz+sX78eZ8+eRUpKCi5cuAB/f39UVlbSjtip/vrrLzg6OkJLSwvz58+XzNQrLCzEtm3b0NTUhOzsbLz//vuUk3IjJycHXl5e0NbWhrOzMwghyMnJQWNjI1JTU+Hg4EA7okJt3boV8fHxuHTpEu0ojCpT3El9hunYtm3biKamJvnyyy9JfHw82bdvHwkODiZaWlokNjaWdjzO6OnpSXrIeHh4kJiYGEIIIeXl5UrZb6MzlJaWEm9vb6KmpibpraKmpka8vLxe24OEDz755BMyc+ZM0tzcLLnW3NxMZsyYQYYPH04xGR03b94kBgYGtGNwZu/eveTXX3+VvA4LCyPdu3cnH3/8MSkrK6OYjGmPrQgpIaFQ2OFMHj4/MkhKSsLGjRsl+4HaTo1NmDCBcjLuuLm5wdTUFB4eHggKCkJhYSEsLS2RkZGBGTNm8HIzZZva2lrJSp+lpaXMvDU+0tbWRl5enmQlrE1hYSEcHR3R0NBAKRkdIpEIXl5eqKqqoh2FE1ZWVvjpp5/g5uaGP//8E+7u7oiJicGvv/4KDQ0NJCYm0o7IgM0aUzqrV6/GmjVr4OjoqFIzeQBg4sSJHTbi4quYmBgEBgbi+PHjWL58uWSP1NGjR3m/N8zQ0BDOzs60YyiUvr4+KioqZAqhyspKXjfa68iOHTtgb29POwZnKisrJf+mjx8/js8++wxz587FsGHD4OLiQjccI8EKISUTGxuLvXv3Ytq0abSjKJSFhQWys7PRs2dPqet1dXVwcHBQuk6kncXOzg5Xr16Vub5hwwa2mZKHJk+ejKCgIERFRUnNngoLC0NAQADteJ0uNDRU7vX6+nrk5ORALBbzrnt6e7q6unjw4AHef/99pKamSk7Fdu3aFY2NjZTTMW1YIaRknj9/zvuVAHnKysrk9khqamrC33//TSGR4tTV1eHo0aMQi8UICwtDjx49UFhYCGNjY5iYmNCOx3SiqKgoCAQCTJ8+XdIrqUuXLggJCUFkZCTldJ0vLy9P7nV9fX14e3tj3rx56Nu3r4JTKc6oUaMwZ84c2Nvb4+bNmxgzZgwA4Pr160rZT0dVsT1CSmbZsmXQ1dVFREQE7SgKcfLkSQCAr68v4uLipI4Qt7S0QCgU4syZMyguLqYVkVMikQju7u4wMDBAWVkZiouLYWFhgYiICJSXlyM+Pp52RIYDDQ0NkpETlpaWKjt/i+/q6urw7bfforKyEiEhIfD29gbwspO2pqYmli9fTjkhA7BCSOksWrQI8fHxsLOzg52dncxMnk2bNlFKxg01NTUALzuPvvpXsUuXLjAzM8PGjRsxduxYGvE45+HhAQcHB/z444/Q09NDQUEBLCwscPHiRUyZMoXXm6VVUVxcHD777DN069aNdhSGYf4PK4SUjKur62vvp6enKyiJYpmbmyM7OxvvvPMO7SgK1b6PUPtCqLy8HFZWVrxtJKmqjIyM0NDQgHHjxmHq1Knw9vZWqX5hqubcuXOvvT9ixAgFJWFeh/0LVDJ8LXQ6cunSJTx8+BC3b9+WXIuPj8fKlSvx9OlT+Pr6YsuWLdDS0qKYkjtdu3aVO5G8uLhYqhstww9VVVVITk7GwYMH4e/vD21tbUyaNAlTp05Vyb2BfCfvZFj7k8B8nR35tmErQkriTebtCAQCHDt2TAFpFMfb2xuurq5YtmwZAODq1atwcHDAzJkzYW1tjQ0bNiA4OBirVq2iG5Qjc+fOxf3793HkyBH06NEDIpEI6urq8PX1xYgRI3g3YoP5f9pmCiYkJCAtLQ19+vSBWCymHYvpRPX19VKvm5ubkZeXh4iICHz33Xdwd3enlIxpj60IKQk+zhl6EwUFBVi3bp3k9aFDhzB48GDs2LEDAGBqaoqVK1fythCKioqCj48PevXqhcbGRowcORLV1dX4+OOP8d1339GOx3BIR0cHXl5eqK2tRXl5OW8HC6syeZ/ro0aNgpaWFhYvXowrV65QSMW8ihVCSmLPnj20I1BRW1sLY2NjyeuMjAzJyQrg5VBSvs3bak9fXx+ZmZlIT0/HlStX0NraCgcHB3h4eNCOxnCkbSXowIEDSEtLg6mpKQICAvDLL7/QjsYoiJGREW9Pwr6NWCHEUGVsbIzbt2/D1NQUz58/R25uLlavXi25//jxY5mTc3zR2tqKvXv3IjExEWVlZRAIBDA3N8e7774LQohKdRVXFQEBATh16hR0dHQwadIk/PHHH2xvEI+JRCKp14QQVFVVITIyEgMHDqSUinkVK4QYqry9vREeHo7169fj+PHj0NHRwfDhwyX3RSIR+vXrRzEhNwghGD9+PE6fPo2BAwfC1tYWhBAUFRVh5syZSExMxPHjx2nHZDqZQCDA4cOH4eXlxU6LqYBBgwbJbQ0yZMgQXs+NfNuwf4kMVevWrYOfnx9GjhwJXV1dxMXFQVNTU3J/9+7d8PT0pJiQG3v37sW5c+cgFAplWiacPXsWvr6+iI+Px/Tp0yklZLiQkJBAOwKjQO1PwwIv+6YZGRmha9eulBIx8rBTY4xSqK+vh66ursx8rYcPH0JXV1eqOOIDT09PuLm5ITw8XO7977//HhkZGUhJSVFwMoZrQqEQQqEQ9+7dQ2trq9Q9tkrAD2fPnsWCBQuQlZUFfX19qXv19fUYOnQoYmNjpVa/GXrUaAdgGODl6Qp5Q0Z79OjBuyIIePnIr/2m8FeNHj0aBQUFCkzEKMLq1avh6ekJoVCImpoa1NbWSv1i+CEmJgZffPGFTBEEvPysCw4O5t2UgLcZWxFiGAo0NTVRXl6O3r17y71/584dmJubo6mpScHJGC717t0bP/74I6ZNm0Y7CsOhvn37Ijk5GdbW1nLv37hxA56enqioqFBwMkYetiLEMBS0tLS8drOsurq6ZDo5wx/Pnz9np8RUwN27d1972lVDQwP3799XYCLmddhmaYahgBCCmTNndjg6hK0E8dOcOXOQkJCAiIgI2lEYDpmYmODq1auwtLSUe18kEnW4GswoHiuEGIaCGTNm/ON72Ikx/nn27Bl+/vlnpKWlwc7OTmbVgO0b4QcfHx+sWLECo0ePljkh1tjYiJUrV2Ls2LGU0jGvYnuEGIZhFOTVVgmvUrWhy3x19+5dODg4QF1dHQsWLICVlRUEAgGKioqwdetWtLS0IDc3V6qrPkMPK4QYhmEYppOVl5cjJCQEKSkpkoaKAoEAXl5e2LZtG8zMzOgGZCRYIcQwDMMxPz+/f3yPQCDAsWPHFJCGUaTa2lqUlJSAEIIPPvgAhoaGtCMxr2B7hBiGYTgmbwo5oxoMDQ3h5OREOwbzGmxFiGEYhmEYlcX6CDEMwzAMo7JYIcQwDMMwjMpihRDDMAzDMCqLFUIMwzAMw6gsVggxDMMwDKOyWCHEMAzDMIzKYoUQwzAMwzAqixVCDMMwDMOorP8F/yQthtdO2KcAAAAASUVORK5CYII=\n",
      "text/plain": [
       "<Figure size 640x480 with 1 Axes>"
      ]
     },
     "metadata": {},
     "output_type": "display_data"
    }
   ],
   "source": [
    "sns.heatmap(df.isnull(), cbar=False)"
   ]
  },
  {
   "cell_type": "code",
   "execution_count": 9,
   "id": "df8a3b8b",
   "metadata": {},
   "outputs": [
    {
     "data": {
      "text/plain": [
       "<AxesSubplot:title={'center':'Missing Data by Column'}>"
      ]
     },
     "execution_count": 9,
     "metadata": {},
     "output_type": "execute_result"
    },
    {
     "data": {
      "image/png": "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\n",
      "text/plain": [
       "<Figure size 1000x400 with 1 Axes>"
      ]
     },
     "metadata": {},
     "output_type": "display_data"
    }
   ],
   "source": [
    "missing_pct = df.isnull().mean().sort_values(ascending=False)\n",
    "missing_pct[missing_pct > 0].plot(kind='barh', figsize=(10, 4), title=\"Missing Data by Column\")"
   ]
  },
  {
   "cell_type": "code",
   "execution_count": 10,
   "id": "23254d9e",
   "metadata": {},
   "outputs": [
    {
     "name": "stderr",
     "output_type": "stream",
     "text": [
      "/Users/jacquelinehardy/opt/anaconda3/lib/python3.9/site-packages/seaborn/_decorators.py:36: FutureWarning: Pass the following variable as a keyword arg: x. From version 0.12, the only valid positional argument will be `data`, and passing other arguments without an explicit keyword will result in an error or misinterpretation.\n",
      "  warnings.warn(\n"
     ]
    },
    {
     "data": {
      "text/plain": [
       "Text(0.5, 1.0, 'Boxplot of Unit Price – Outlier Check')"
      ]
     },
     "execution_count": 10,
     "metadata": {},
     "output_type": "execute_result"
    },
    {
     "data": {
      "image/png": "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\n",
      "text/plain": [
       "<Figure size 640x480 with 1 Axes>"
      ]
     },
     "metadata": {},
     "output_type": "display_data"
    }
   ],
   "source": [
    "sns.boxplot(df['UnitPrice'])\n",
    "plt.title(\"Boxplot of Unit Price – Outlier Check\")"
   ]
  },
  {
   "cell_type": "code",
   "execution_count": 11,
   "id": "a776f017",
   "metadata": {},
   "outputs": [
    {
     "data": {
      "text/html": [
       "<div>\n",
       "<style scoped>\n",
       "    .dataframe tbody tr th:only-of-type {\n",
       "        vertical-align: middle;\n",
       "    }\n",
       "\n",
       "    .dataframe tbody tr th {\n",
       "        vertical-align: top;\n",
       "    }\n",
       "\n",
       "    .dataframe thead th {\n",
       "        text-align: right;\n",
       "    }\n",
       "</style>\n",
       "<table border=\"1\" class=\"dataframe\">\n",
       "  <thead>\n",
       "    <tr style=\"text-align: right;\">\n",
       "      <th></th>\n",
       "      <th>InvoiceNo</th>\n",
       "      <th>Description</th>\n",
       "      <th>Quantity</th>\n",
       "      <th>UnitPrice</th>\n",
       "      <th>CustomerID</th>\n",
       "    </tr>\n",
       "  </thead>\n",
       "  <tbody>\n",
       "    <tr>\n",
       "      <th>222681</th>\n",
       "      <td>C556445</td>\n",
       "      <td>Manual</td>\n",
       "      <td>-1</td>\n",
       "      <td>38970.00</td>\n",
       "      <td>15098.0</td>\n",
       "    </tr>\n",
       "    <tr>\n",
       "      <th>524602</th>\n",
       "      <td>C580605</td>\n",
       "      <td>AMAZON FEE</td>\n",
       "      <td>-1</td>\n",
       "      <td>17836.46</td>\n",
       "      <td>NaN</td>\n",
       "    </tr>\n",
       "    <tr>\n",
       "      <th>43702</th>\n",
       "      <td>C540117</td>\n",
       "      <td>AMAZON FEE</td>\n",
       "      <td>-1</td>\n",
       "      <td>16888.02</td>\n",
       "      <td>NaN</td>\n",
       "    </tr>\n",
       "    <tr>\n",
       "      <th>43703</th>\n",
       "      <td>C540118</td>\n",
       "      <td>AMAZON FEE</td>\n",
       "      <td>-1</td>\n",
       "      <td>16453.71</td>\n",
       "      <td>NaN</td>\n",
       "    </tr>\n",
       "    <tr>\n",
       "      <th>15016</th>\n",
       "      <td>C537630</td>\n",
       "      <td>AMAZON FEE</td>\n",
       "      <td>-1</td>\n",
       "      <td>13541.33</td>\n",
       "      <td>NaN</td>\n",
       "    </tr>\n",
       "  </tbody>\n",
       "</table>\n",
       "</div>"
      ],
      "text/plain": [
       "       InvoiceNo Description  Quantity  UnitPrice  CustomerID\n",
       "222681   C556445      Manual        -1   38970.00     15098.0\n",
       "524602   C580605  AMAZON FEE        -1   17836.46         NaN\n",
       "43702    C540117  AMAZON FEE        -1   16888.02         NaN\n",
       "43703    C540118  AMAZON FEE        -1   16453.71         NaN\n",
       "15016    C537630  AMAZON FEE        -1   13541.33         NaN"
      ]
     },
     "execution_count": 11,
     "metadata": {},
     "output_type": "execute_result"
    }
   ],
   "source": [
    "outliers = df[df['UnitPrice'] > 1000].sort_values(by='UnitPrice', ascending=False)\n",
    "outliers[['InvoiceNo', 'Description', 'Quantity', 'UnitPrice', 'CustomerID']].head(5)"
   ]
  },
  {
   "cell_type": "code",
   "execution_count": 12,
   "id": "63ac2351",
   "metadata": {},
   "outputs": [
    {
     "name": "stdout",
     "output_type": "stream",
     "text": [
      "Data Quality Score: 73.6/100\n"
     ]
    }
   ],
   "source": [
    "score = 100\n",
    "score -= df['CustomerID'].isnull().mean() * 100\n",
    "score -= df.duplicated().mean() * 50\n",
    "score -= (df['Quantity'] < 0).mean() * 50\n",
    "score = round(score, 1)\n",
    "\n",
    "print(f\"Data Quality Score: {score}/100\")\n"
   ]
  },
  {
   "cell_type": "code",
   "execution_count": 13,
   "id": "6b872a37",
   "metadata": {},
   "outputs": [
    {
     "data": {
      "image/png": "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\n",
      "text/plain": [
       "<Figure size 640x480 with 1 Axes>"
      ]
     },
     "metadata": {},
     "output_type": "display_data"
    }
   ],
   "source": [
    "plt.barh([\"Quality Score\"], [score], color='green')\n",
    "plt.xlim(0, 100)\n",
    "plt.title(\"Overall Data Quality\")\n",
    "plt.show()"
   ]
  },
  {
   "cell_type": "code",
   "execution_count": 14,
   "id": "54059290",
   "metadata": {},
   "outputs": [],
   "source": [
    "df['InvoiceDate'] = pd.to_datetime(df['InvoiceDate'])"
   ]
  },
  {
   "cell_type": "code",
   "execution_count": 15,
   "id": "79c7eaa3",
   "metadata": {},
   "outputs": [
    {
     "data": {
      "text/plain": [
       "United Kingdom    495478\n",
       "Germany             9495\n",
       "France              8557\n",
       "EIRE                8196\n",
       "Spain               2533\n",
       "Netherlands         2371\n",
       "Belgium             2069\n",
       "Switzerland         2002\n",
       "Portugal            1519\n",
       "Australia           1259\n",
       "Name: Country, dtype: int64"
      ]
     },
     "execution_count": 15,
     "metadata": {},
     "output_type": "execute_result"
    }
   ],
   "source": [
    "df['Country'].value_counts().head(10)"
   ]
  },
  {
   "cell_type": "code",
   "execution_count": 16,
   "id": "0f0893f8",
   "metadata": {},
   "outputs": [
    {
     "data": {
      "text/plain": [
       "4372"
      ]
     },
     "execution_count": 16,
     "metadata": {},
     "output_type": "execute_result"
    }
   ],
   "source": [
    "df['CustomerID'].nunique()"
   ]
  },
  {
   "cell_type": "code",
   "execution_count": 17,
   "id": "69a835e6",
   "metadata": {},
   "outputs": [
    {
     "data": {
      "text/plain": [
       "<AxesSubplot:xlabel='Month'>"
      ]
     },
     "execution_count": 17,
     "metadata": {},
     "output_type": "execute_result"
    },
    {
     "data": {
      "image/png": "iVBORw0KGgoAAAANSUhEUgAAA+MAAAGfCAYAAAA0+wNDAAAAOXRFWHRTb2Z0d2FyZQBNYXRwbG90bGliIHZlcnNpb24zLjUuMiwgaHR0cHM6Ly9tYXRwbG90bGliLm9yZy8qNh9FAAAACXBIWXMAAA9hAAAPYQGoP6dpAAA+CklEQVR4nO3df3QU9b3/8dcmISHEZEuI2U0k/Gj5YTCgLWhI8AooPy9IFc+Fio1QEcEfcHOBWpH2GK0C0gr2BkuRUn4jntsStRcMxipQDOFno6KI6AWFmiXUJhvAuMEw3z/6dY4LzGgwmdmE5+OcPYed+ezmPa+T2n1ldmc9hmEYAgAAAAAAjolyewAAAAAAAC41lHEAAAAAABxGGQcAAAAAwGGUcQAAAAAAHEYZBwAAAADAYZRxAAAAAAAcRhkHAAAAAMBhlHEAAAAAABwW4/YATeXs2bP65JNPlJiYKI/H4/Y4AAAAAIAWzjAMnTx5Uunp6YqKsj/33WLL+CeffKKMjAy3xwAAAAAAXGKOHj2q9u3b265psWU8MTFR0r9CSEpKcnkaAAAAAEBLV1NTo4yMDLOP2mmxZfzLt6YnJSVRxgEAAAAAjvkmH5XmAm4AAAAAADiMMg4AAAAAgMMo4wAAAAAAOIwyDgAAAACAwxpUxhcvXqxevXqZF0XLycnRyy+/bO6fMGGCPB5P2K1v375hzxEKhTR16lSlpKQoISFBo0aN0rFjx8LWVFVVKS8vT16vV16vV3l5eaqurr74owQAAAAAIII0qIy3b99e8+bN0549e7Rnzx7deOON+uEPf6h33nnHXDNs2DBVVFSYt02bNoU9R35+voqKirR+/Xpt375dp06d0siRI1VfX2+uGTdunMrLy1VcXKzi4mKVl5crLy/vWx4qAAAAAACRwWMYhvFtniA5OVm/+tWvNHHiRE2YMEHV1dV64YUXLrg2GAzq8ssv1+rVqzV27FhJ0ieffKKMjAxt2rRJQ4cO1YEDB9SjRw+VlZUpOztbklRWVqacnBy999576t69+zeaq6amRl6vV8FgkK82AwAAAAA0uYb00Iv+zHh9fb3Wr1+v06dPKycnx9y+ZcsWpaamqlu3bpo0aZIqKyvNfXv37tWZM2c0ZMgQc1t6erqysrJUWloqSdqxY4e8Xq9ZxCWpb9++8nq95poLCYVCqqmpCbsBAAAAABCJGlzG3377bV122WWKi4vTlClTVFRUpB49ekiShg8frrVr1+q1117TU089pd27d+vGG29UKBSSJAUCAcXGxqpt27Zhz+nz+RQIBMw1qamp5/3c1NRUc82FzJ071/yMudfrVUZGRkMPDQAAAAAAR8Q09AHdu3dXeXm5qqur9ac//Unjx4/X1q1b1aNHD/Ot55KUlZWlPn36qGPHjtq4caNGjx5t+ZyGYcjj8Zj3v/pvqzXnmjVrlqZPn27er6mpoZADAAAAACJSg8t4bGys